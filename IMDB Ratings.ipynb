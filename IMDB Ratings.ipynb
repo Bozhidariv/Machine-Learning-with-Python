{
 "cells": [
  {
   "cell_type": "markdown",
   "metadata": {},
   "source": [
    "# Рейтинги на ревюта за филми от IMDB"
   ]
  },
  {
   "cell_type": "markdown",
   "metadata": {},
   "source": [
    "<strong>Около 50000 филмови рейтинги от потребители на платформата</strong>"
   ]
  },
  {
   "attachments": {},
   "cell_type": "markdown",
   "metadata": {},
   "source": [
    "![](https://media1.tenor.com/images/54451401d52c0dd2fe9ee5752857d53c/tenor.gif?itemid=4452103)"
   ]
  },
  {
   "cell_type": "code",
   "execution_count": 138,
   "metadata": {},
   "outputs": [],
   "source": [
    "import numpy as np \n",
    "import pandas as pd\n",
    "import seaborn as sns\n",
    "import matplotlib.pyplot as plt\n",
    "import string\n",
    "import re\n",
    "from wordcloud import WordCloud\n",
    "from IPython.display import display\n",
    "from collections import Counter\n",
    "from nltk.corpus import stopwords\n",
    "from keras.models import Sequential, Model\n",
    "from keras.layers import Dense, Dropout, Input, Activation, Embedding\n",
    "from keras.optimizers import SGD, Adam"
   ]
  },
  {
   "cell_type": "markdown",
   "metadata": {},
   "source": [
    "Зареждаме данните"
   ]
  },
  {
   "cell_type": "code",
   "execution_count": 2,
   "metadata": {},
   "outputs": [],
   "source": [
    "train = pd.DataFrame.from_csv('data/imdb/labeledTrainData.tsv.zip', sep='\\t')\n",
    "test = pd.DataFrame.from_csv('data/imdb/testData.tsv.zip', sep='\\t', header=0)"
   ]
  },
  {
   "cell_type": "code",
   "execution_count": 3,
   "metadata": {},
   "outputs": [
    {
     "data": {
      "text/html": [
       "<div>\n",
       "<style>\n",
       "    .dataframe thead tr:only-child th {\n",
       "        text-align: right;\n",
       "    }\n",
       "\n",
       "    .dataframe thead th {\n",
       "        text-align: left;\n",
       "    }\n",
       "\n",
       "    .dataframe tbody tr th {\n",
       "        vertical-align: top;\n",
       "    }\n",
       "</style>\n",
       "<table border=\"1\" class=\"dataframe\">\n",
       "  <thead>\n",
       "    <tr style=\"text-align: right;\">\n",
       "      <th></th>\n",
       "      <th>sentiment</th>\n",
       "      <th>review</th>\n",
       "    </tr>\n",
       "    <tr>\n",
       "      <th>id</th>\n",
       "      <th></th>\n",
       "      <th></th>\n",
       "    </tr>\n",
       "  </thead>\n",
       "  <tbody>\n",
       "    <tr>\n",
       "      <th>5814_8</th>\n",
       "      <td>1</td>\n",
       "      <td>With all this stuff going down at the moment w...</td>\n",
       "    </tr>\n",
       "    <tr>\n",
       "      <th>2381_9</th>\n",
       "      <td>1</td>\n",
       "      <td>\\The Classic War of the Worlds\\\" by Timothy Hi...</td>\n",
       "    </tr>\n",
       "    <tr>\n",
       "      <th>7759_3</th>\n",
       "      <td>0</td>\n",
       "      <td>The film starts with a manager (Nicholas Bell)...</td>\n",
       "    </tr>\n",
       "    <tr>\n",
       "      <th>3630_4</th>\n",
       "      <td>0</td>\n",
       "      <td>It must be assumed that those who praised this...</td>\n",
       "    </tr>\n",
       "    <tr>\n",
       "      <th>9495_8</th>\n",
       "      <td>1</td>\n",
       "      <td>Superbly trashy and wondrously unpretentious 8...</td>\n",
       "    </tr>\n",
       "  </tbody>\n",
       "</table>\n",
       "</div>"
      ],
      "text/plain": [
       "        sentiment                                             review\n",
       "id                                                                  \n",
       "5814_8          1  With all this stuff going down at the moment w...\n",
       "2381_9          1  \\The Classic War of the Worlds\\\" by Timothy Hi...\n",
       "7759_3          0  The film starts with a manager (Nicholas Bell)...\n",
       "3630_4          0  It must be assumed that those who praised this...\n",
       "9495_8          1  Superbly trashy and wondrously unpretentious 8..."
      ]
     },
     "execution_count": 3,
     "metadata": {},
     "output_type": "execute_result"
    }
   ],
   "source": [
    "train.head(5)"
   ]
  },
  {
   "cell_type": "markdown",
   "metadata": {},
   "source": [
    "Забелязваме, че колоната sentiment има числови стойности, да ги проверим"
   ]
  },
  {
   "cell_type": "code",
   "execution_count": 4,
   "metadata": {},
   "outputs": [
    {
     "data": {
      "text/plain": [
       "1    12500\n",
       "0    12500\n",
       "Name: sentiment, dtype: int64"
      ]
     },
     "execution_count": 4,
     "metadata": {},
     "output_type": "execute_result"
    }
   ],
   "source": [
    "train.sentiment.value_counts()"
   ]
  },
  {
   "cell_type": "markdown",
   "metadata": {},
   "source": [
    "Имаме 2 рейтинга : 1 и 0"
   ]
  },
  {
   "cell_type": "markdown",
   "metadata": {},
   "source": [
    "1 - рейтинг под 5, а 2 - реитинг над 7 по десетобалната скала"
   ]
  },
  {
   "cell_type": "markdown",
   "metadata": {},
   "source": [
    "# Ще пробваме следните подходи за намиране на рейтинга на дадено ревю"
   ]
  },
  {
   "cell_type": "markdown",
   "metadata": {},
   "source": [
    "<strong>CountVectorizer и TfidfVectorizer с различни модели за класификация </strong><br>\n",
    "<strong> Предварителна обработка на текста - стеминг, лематизация, стоп думи и пунктуация</strong><br>\n",
    "<strong> След това ще пробваме Word2Vec за word embedding </strong><br>\n",
    "<strong> Накрая ще подадем данните от модела на Word2Vec на MLP невронна мрежа като вектор </strong><br>"
   ]
  },
  {
   "cell_type": "markdown",
   "metadata": {},
   "source": [
    "Зареждане на модел от spacy"
   ]
  },
  {
   "cell_type": "code",
   "execution_count": 5,
   "metadata": {},
   "outputs": [],
   "source": [
    "import spacy\n",
    "nlp = spacy.load('en_core_web_sm')"
   ]
  },
  {
   "cell_type": "code",
   "execution_count": 13,
   "metadata": {},
   "outputs": [],
   "source": [
    "import nltk\n",
    "stopwords = nltk.corpus.stopwords.words('english')\n",
    "punctuations = string.punctuation\n",
    "# премахване на лични местоимения, препинателни знаци и междуметие\n",
    "def clean(docs, logging=False):\n",
    "    texts = []\n",
    "    counter = 1\n",
    "    for doc in docs:\n",
    "        if counter % 1000 == 0 and logging:\n",
    "            print(\"Преработени %d от %d ревюта.\" % (counter, len(docs)))\n",
    "        counter += 1 \n",
    "        doc = nlp(doc, disable=['parser', 'ner'])\n",
    "        tokens = [tok.lemma_.lower().strip() for tok in doc if tok.lemma_ != '-PRON-']\n",
    "        tokens = [tok for tok in tokens if tok not in stopwords  and tok not in punctuations]\n",
    "        tokens = ' '.join(tokens)\n",
    "        texts.append(tokens)\n",
    "    return pd.Series(texts)"
   ]
  },
  {
   "cell_type": "markdown",
   "metadata": {},
   "source": [
    "Да разгледаме какви думи имапе при \"лошите\" и \"добрите\" оценки на филми"
   ]
  },
  {
   "cell_type": "code",
   "execution_count": 7,
   "metadata": {},
   "outputs": [],
   "source": [
    "positive = [text for text in train[train.sentiment == 1]['review']]\n",
    "negative = [text for text in train[train.sentiment == 0]['review']]"
   ]
  },
  {
   "cell_type": "markdown",
   "metadata": {},
   "source": [
    "Изчистване на данните"
   ]
  },
  {
   "cell_type": "code",
   "execution_count": 8,
   "metadata": {},
   "outputs": [],
   "source": [
    "positive_clean = clean(positive)\n",
    "positive_clean = ' '.join(positive_clean).split()\n",
    "\n",
    "negative_clean = clean(negative)\n",
    "negative_clean = ' '.join(negative_clean).split()"
   ]
  },
  {
   "cell_type": "markdown",
   "metadata": {},
   "source": [
    "Показване на 30-е най-често срещани думи в позитивните и отрицателните ревюта"
   ]
  },
  {
   "cell_type": "code",
   "execution_count": 9,
   "metadata": {},
   "outputs": [],
   "source": [
    "#разпределение на думите\n",
    "positive_counts = Counter(positive_clean)\n",
    "negative_counts = Counter(negative_clean)\n",
    "\n",
    "positive_common_words = [word[0] for word in positive_counts.most_common(30)]\n",
    "positive_common_count = [word[1] for word in positive_counts.most_common(30)]\n",
    "\n",
    "negative_common_words = [word[0] for word in negative_counts.most_common(30)]\n",
    "negative_common_count = [word[1] for word in negative_counts.most_common(30)]\n"
   ]
  },
  {
   "cell_type": "code",
   "execution_count": 10,
   "metadata": {},
   "outputs": [
    {
     "data": {
      "image/png": "[encoded data removed]",
      "text/plain": [
       "<matplotlib.figure.Figure at 0x1e370358>"
      ]
     },
     "metadata": {},
     "output_type": "display_data"
    }
   ],
   "source": [
    "plt.figure(figsize=(15, 12))\n",
    "\n",
    "sns.barplot(x=positive_common_words, y=positive_common_count)\n",
    "plt.title('Positive reviews most common words')\n",
    "plt.show()"
   ]
  },
  {
   "cell_type": "markdown",
   "metadata": {},
   "source": [
    "Вижда се шум от '/><br' и 's', да видим дали има и такъв при негативните ревюта"
   ]
  },
  {
   "cell_type": "code",
   "execution_count": 11,
   "metadata": {},
   "outputs": [
    {
     "data": {
      "image/png": "[encoded data removed]",
      "text/plain": [
       "<matplotlib.figure.Figure at 0x223dde48>"
      ]
     },
     "metadata": {},
     "output_type": "display_data"
    }
   ],
   "source": [
    "plt.figure(figsize=(15, 12))\n",
    "\n",
    "sns.barplot(x=negative_common_words, y=negative_common_count)\n",
    "plt.title('Negative reviews most common words')\n",
    "plt.show()"
   ]
  },
  {
   "cell_type": "markdown",
   "metadata": {},
   "source": [
    "Виждаме същотот нещо, даже има още \"шум \"-  '...'"
   ]
  },
  {
   "cell_type": "markdown",
   "metadata": {},
   "source": [
    "Да изчистим още малко данните"
   ]
  },
  {
   "cell_type": "code",
   "execution_count": 12,
   "metadata": {},
   "outputs": [],
   "source": [
    "positive_clean = [word for word in positive_clean if word != '\\'s' and word != '/><br' and word != '...']\n",
    "negative_clean = [word for word in positive_clean if word != '\\'s' and word != '/><br' and word != '...']"
   ]
  },
  {
   "cell_type": "code",
   "execution_count": 14,
   "metadata": {},
   "outputs": [],
   "source": [
    "positive_counts = Counter(positive_clean)\n",
    "negative_counts = Counter(negative_clean)\n",
    "\n",
    "positive_common_words = [word[0] for word in positive_counts.most_common(30)]\n",
    "positive_common_count = [word[1] for word in positive_counts.most_common(30)]\n",
    "\n",
    "negative_common_words = [word[0] for word in negative_counts.most_common(30)]\n",
    "negative_common_count = [word[1] for word in negative_counts.most_common(30)]\n"
   ]
  },
  {
   "cell_type": "code",
   "execution_count": 15,
   "metadata": {},
   "outputs": [
    {
     "data": {
      "image/png": "[encoded data removed]",
      "text/plain": [
       "<matplotlib.figure.Figure at 0x3350ca20>"
      ]
     },
     "metadata": {},
     "output_type": "display_data"
    }
   ],
   "source": [
    "plt.figure(figsize=(15, 12))\n",
    "\n",
    "sns.barplot(x=positive_common_words, y=positive_common_count)\n",
    "plt.title('Positive reviews most common words')\n",
    "plt.show()"
   ]
  },
  {
   "cell_type": "markdown",
   "metadata": {},
   "source": [
    "<strong>Така е по-добре</strong>"
   ]
  },
  {
   "cell_type": "code",
   "execution_count": 16,
   "metadata": {},
   "outputs": [
    {
     "name": "stdout",
     "output_type": "stream",
     "text": [
      "Преработени 1000 от 25000 ревюта.\n",
      "Преработени 2000 от 25000 ревюта.\n",
      "Преработени 3000 от 25000 ревюта.\n",
      "Преработени 4000 от 25000 ревюта.\n",
      "Преработени 5000 от 25000 ревюта.\n",
      "Преработени 6000 от 25000 ревюта.\n",
      "Преработени 7000 от 25000 ревюта.\n",
      "Преработени 8000 от 25000 ревюта.\n",
      "Преработени 9000 от 25000 ревюта.\n",
      "Преработени 10000 от 25000 ревюта.\n",
      "Преработени 11000 от 25000 ревюта.\n",
      "Преработени 12000 от 25000 ревюта.\n",
      "Преработени 13000 от 25000 ревюта.\n",
      "Преработени 14000 от 25000 ревюта.\n",
      "Преработени 15000 от 25000 ревюта.\n",
      "Преработени 16000 от 25000 ревюта.\n",
      "Преработени 17000 от 25000 ревюта.\n",
      "Преработени 18000 от 25000 ревюта.\n",
      "Преработени 19000 от 25000 ревюта.\n",
      "Преработени 20000 от 25000 ревюта.\n",
      "Преработени 21000 от 25000 ревюта.\n",
      "Преработени 22000 от 25000 ревюта.\n",
      "Преработени 23000 от 25000 ревюта.\n",
      "Преработени 24000 от 25000 ревюта.\n",
      "Преработени 25000 от 25000 ревюта.\n"
     ]
    }
   ],
   "source": [
    "train_cleaned = clean(train['review'], logging=True)\n",
    "train_cleaned = [word for word in train_cleaned if word != '\\'s' and word != '/><br' and word != '...']\n"
   ]
  },
  {
   "cell_type": "markdown",
   "metadata": {},
   "source": [
    "# Сега да видим малко комбинации между векторайзери и модели за класификация, и тяхните резултати"
   ]
  },
  {
   "cell_type": "code",
   "execution_count": 21,
   "metadata": {},
   "outputs": [],
   "source": [
    "from sklearn.pipeline import Pipeline\n",
    "from sklearn.ensemble import RandomForestClassifier\n",
    "from sklearn.svm import LinearSVC\n",
    "from sklearn.feature_extraction.text import CountVectorizer,TfidfVectorizer,TfidfTransformer\n",
    "from sklearn.model_selection import cross_val_score\n",
    "from sklearn.naive_bayes import MultinomialNB\n",
    "from sklearn.linear_model import LogisticRegression\n"
   ]
  },
  {
   "cell_type": "markdown",
   "metadata": {},
   "source": [
    "<strong>Първо логистична регресия</strong>"
   ]
  },
  {
   "cell_type": "code",
   "execution_count": 23,
   "metadata": {},
   "outputs": [
    {
     "data": {
      "text/plain": [
       "array([ 0.88036957,  0.87317015,  0.8768603 ])"
      ]
     },
     "execution_count": 23,
     "metadata": {},
     "output_type": "execute_result"
    }
   ],
   "source": [
    "pipeline = Pipeline([\n",
    "        ('features', CountVectorizer()),\n",
    "        ('clf', LogisticRegression())\n",
    "    ])\n",
    "\n",
    "\n",
    "cross_val_score(pipeline, train.review, train.sentiment, cv=3, n_jobs=3)"
   ]
  },
  {
   "cell_type": "markdown",
   "metadata": {},
   "source": [
    "<strong>Случайна гора</strong>"
   ]
  },
  {
   "cell_type": "code",
   "execution_count": 27,
   "metadata": {},
   "outputs": [
    {
     "data": {
      "text/plain": [
       "array([ 0.74766019,  0.73530118,  0.73427748])"
      ]
     },
     "execution_count": 27,
     "metadata": {},
     "output_type": "execute_result"
    }
   ],
   "source": [
    "pipeline = Pipeline([\n",
    "        ('features', CountVectorizer()),\n",
    "        ('clf', RandomForestClassifier())\n",
    "    ])\n",
    "\n",
    "\n",
    "cross_val_score(pipeline, train.review, train.sentiment, cv=3, n_jobs=3)"
   ]
  },
  {
   "cell_type": "markdown",
   "metadata": {},
   "source": [
    "<strong>TFIDF с Multinomial Naive Bayes<strong>"
   ]
  },
  {
   "cell_type": "code",
   "execution_count": 29,
   "metadata": {},
   "outputs": [
    {
     "data": {
      "text/plain": [
       "array([ 0.8587713 ,  0.86537077,  0.85897744])"
      ]
     },
     "execution_count": 29,
     "metadata": {},
     "output_type": "execute_result"
    }
   ],
   "source": [
    "pipeline = Pipeline([\n",
    "        ('features', TfidfVectorizer()),\n",
    "        ('clf', MultinomialNB())\n",
    "    ])\n",
    "cross_val_score(pipeline, train.review, train.sentiment, cv=3, n_jobs=3)"
   ]
  },
  {
   "cell_type": "markdown",
   "metadata": {},
   "source": [
    "<strong>Засега логистичната регресия изглежда победител. Да пробваме друг подход</strong>"
   ]
  },
  {
   "cell_type": "markdown",
   "metadata": {},
   "source": [
    "# Word2Vec"
   ]
  },
  {
   "cell_type": "markdown",
   "metadata": {},
   "source": [
    "При <strong>Word2Vec</strong> няма нужда да премахване стоп думи и местоимения, защото те помагат, като дава контекст."
   ]
  },
  {
   "cell_type": "code",
   "execution_count": 30,
   "metadata": {},
   "outputs": [
    {
     "name": "stdout",
     "output_type": "stream",
     "text": [
      "Number of total reviews: 50000\n"
     ]
    }
   ],
   "source": [
    "#комбинация на всички данни\n",
    "all_reviews = np.concatenate((train['review'], test['review']), axis=0)\n",
    "all_reviews = pd.DataFrame(all_reviews, columns=['review'])\n",
    "print('Number of total reviews:', len(all_reviews))"
   ]
  },
  {
   "cell_type": "code",
   "execution_count": 31,
   "metadata": {},
   "outputs": [],
   "source": [
    "def clean_word2vec(docs, logging=False):\n",
    "    sentences = []\n",
    "    counter = 1\n",
    "    for doc in docs:\n",
    "        if counter % 1000 == 0 and logging:\n",
    "            print(\"Преработени %d от %d текста.\" % (counter, len(docs)))\n",
    "        doc = nlp(doc, disable=['tagger'])\n",
    "        #лематицация на думите() и само с малки букви\n",
    "        doc = \" \".join([tok.lemma_.lower() for tok in doc])\n",
    "        # разделяне на изреченито, спрямо пунктуацията\n",
    "        doc = re.split(\"[\\.?!;] \", doc)\n",
    "        # премахване на препинателните знаци\n",
    "        doc = [re.sub(\"[\\.,;:!?]\", \"\", sent) for sent in doc]\n",
    "        # разделяне на думи\n",
    "        doc = [sent.split() for sent in doc]\n",
    "        sentences += doc\n",
    "        counter += 1\n",
    "    return sentences"
   ]
  },
  {
   "cell_type": "code",
   "execution_count": 32,
   "metadata": {},
   "outputs": [
    {
     "name": "stdout",
     "output_type": "stream",
     "text": [
      "Преработени 1000 от 50000 текста.\n",
      "Преработени 2000 от 50000 текста.\n",
      "Преработени 3000 от 50000 текста.\n",
      "Преработени 4000 от 50000 текста.\n",
      "Преработени 5000 от 50000 текста.\n",
      "Преработени 6000 от 50000 текста.\n",
      "Преработени 7000 от 50000 текста.\n",
      "Преработени 8000 от 50000 текста.\n",
      "Преработени 9000 от 50000 текста.\n",
      "Преработени 10000 от 50000 текста.\n",
      "Преработени 11000 от 50000 текста.\n",
      "Преработени 12000 от 50000 текста.\n",
      "Преработени 13000 от 50000 текста.\n",
      "Преработени 14000 от 50000 текста.\n",
      "Преработени 15000 от 50000 текста.\n",
      "Преработени 16000 от 50000 текста.\n",
      "Преработени 17000 от 50000 текста.\n",
      "Преработени 18000 от 50000 текста.\n",
      "Преработени 19000 от 50000 текста.\n",
      "Преработени 20000 от 50000 текста.\n",
      "Преработени 21000 от 50000 текста.\n",
      "Преработени 22000 от 50000 текста.\n",
      "Преработени 23000 от 50000 текста.\n",
      "Преработени 24000 от 50000 текста.\n",
      "Преработени 25000 от 50000 текста.\n",
      "Преработени 26000 от 50000 текста.\n",
      "Преработени 27000 от 50000 текста.\n",
      "Преработени 28000 от 50000 текста.\n",
      "Преработени 29000 от 50000 текста.\n",
      "Преработени 30000 от 50000 текста.\n",
      "Преработени 31000 от 50000 текста.\n",
      "Преработени 32000 от 50000 текста.\n",
      "Преработени 33000 от 50000 текста.\n",
      "Преработени 34000 от 50000 текста.\n",
      "Преработени 35000 от 50000 текста.\n",
      "Преработени 36000 от 50000 текста.\n",
      "Преработени 37000 от 50000 текста.\n",
      "Преработени 38000 от 50000 текста.\n",
      "Преработени 39000 от 50000 текста.\n",
      "Преработени 40000 от 50000 текста.\n",
      "Преработени 41000 от 50000 текста.\n",
      "Преработени 42000 от 50000 текста.\n",
      "Преработени 43000 от 50000 текста.\n",
      "Преработени 44000 от 50000 текста.\n",
      "Преработени 45000 от 50000 текста.\n",
      "Преработени 46000 от 50000 текста.\n",
      "Преработени 47000 от 50000 текста.\n",
      "Преработени 48000 от 50000 текста.\n",
      "Преработени 49000 от 50000 текста.\n",
      "Преработени 50000 от 50000 текста.\n"
     ]
    }
   ],
   "source": [
    "train_cleaned_word2vec = clean_word2vec(all_reviews['review'], logging=True)"
   ]
  },
  {
   "cell_type": "code",
   "execution_count": 145,
   "metadata": {},
   "outputs": [
    {
     "name": "stdout",
     "output_type": "stream",
     "text": [
      "Трениране на Word2Vec модел...\n",
      "Word2Vec моделът е създаден.\n"
     ]
    }
   ],
   "source": [
    "from gensim.models.word2vec import Word2Vec\n",
    "print(\"Трениране на Word2Vec модел...\")\n",
    "wordvec_model = Word2Vec(train_cleaned_word2vec, size=50, window=5, min_count=3, workers=4, sg=1)\n",
    "print(\"Word2Vec моделът е създаден.\")\n"
   ]
  },
  {
   "cell_type": "code",
   "execution_count": 146,
   "metadata": {},
   "outputs": [],
   "source": [
    "# Създаване на вектори\n",
    "def create_average_vec(doc):\n",
    "    average = np.zeros((50,), dtype='float32')\n",
    "    num_words = 0.\n",
    "    for word in doc.split():\n",
    "        if word in wordvec_model.wv.vocab:\n",
    "            average = np.add(average, wordvec_model[word])\n",
    "            num_words += 1.\n",
    "    if num_words != 0.:\n",
    "        average = np.divide(average, num_words)\n",
    "    return average"
   ]
  },
  {
   "cell_type": "code",
   "execution_count": 147,
   "metadata": {},
   "outputs": [],
   "source": [
    "# Създаване на вектори\n",
    "train_cleaned_vec = np.zeros((train.shape[0], 50), dtype=\"float32\")\n",
    "for i in range(len(train_cleaned)):\n",
    "    train_cleaned_vec[i] = create_average_vec(train_cleaned[i])\n"
   ]
  },
  {
   "cell_type": "code",
   "execution_count": 148,
   "metadata": {},
   "outputs": [
    {
     "name": "stdout",
     "output_type": "stream",
     "text": [
      "X_train size: (20000, 50)\n",
      "X_test size: (5000, 50)\n",
      "y_train size: (20000,)\n",
      "y_test size: (5000,)\n"
     ]
    }
   ],
   "source": [
    "from sklearn.model_selection import train_test_split\n",
    "\n",
    "X_train, X_test, y_train, y_test = train_test_split(train_cleaned_vec, train['sentiment'], test_size=0.2, random_state=21)\n",
    "\n",
    "print('X_train size: {}'.format(X_train.shape))\n",
    "print('X_test size: {}'.format(X_test.shape))\n",
    "print('y_train size: {}'.format(y_train.shape))\n",
    "print('y_test size: {}'.format(y_test.shape))"
   ]
  },
  {
   "cell_type": "code",
   "execution_count": 149,
   "metadata": {},
   "outputs": [
    {
     "data": {
      "text/plain": [
       "id\n",
       "2873_1     0\n",
       "6933_9     1\n",
       "10616_2    0\n",
       "6287_4     0\n",
       "6711_10    1\n",
       "7821_1     0\n",
       "5465_1     0\n",
       "3914_2     0\n",
       "11267_1    0\n",
       "7979_1     0\n",
       "Name: sentiment, dtype: int64"
      ]
     },
     "execution_count": 149,
     "metadata": {},
     "output_type": "execute_result"
    }
   ],
   "source": [
    "y_train[:10]"
   ]
  },
  {
   "cell_type": "code",
   "execution_count": 154,
   "metadata": {},
   "outputs": [],
   "source": [
    "def initiate(architecture='mlp'):\n",
    "    model = Sequential()\n",
    "    model.add(Dense(10, activation='relu', kernel_initializer='he_normal', input_dim=50))\n",
    "    model.add(Dropout(0.1))\n",
    "    model.add(Dense(10, activation='relu', kernel_initializer='he_normal'))\n",
    "    model.add(Dropout(0.2))\n",
    "    model.add(Dense(10, activation='relu', kernel_initializer='he_normal'))\n",
    "    model.add(Dropout(0.1))\n",
    "    model.add(Dense(10, activation='relu', kernel_initializer='he_normal'))\n",
    "    model.add(Dropout(0.2))\n",
    "    model.add(Dense(1, activation='softmax'))\n",
    "    return model"
   ]
  },
  {
   "cell_type": "code",
   "execution_count": 155,
   "metadata": {},
   "outputs": [
    {
     "name": "stdout",
     "output_type": "stream",
     "text": [
      "_________________________________________________________________\n",
      "Layer (type)                 Output Shape              Param #   \n",
      "=================================================================\n",
      "dense_53 (Dense)             (None, 10)                510       \n",
      "_________________________________________________________________\n",
      "dropout_45 (Dropout)         (None, 10)                0         \n",
      "_________________________________________________________________\n",
      "dense_54 (Dense)             (None, 10)                110       \n",
      "_________________________________________________________________\n",
      "dropout_46 (Dropout)         (None, 10)                0         \n",
      "_________________________________________________________________\n",
      "dense_55 (Dense)             (None, 10)                110       \n",
      "_________________________________________________________________\n",
      "dropout_47 (Dropout)         (None, 10)                0         \n",
      "_________________________________________________________________\n",
      "dense_56 (Dense)             (None, 10)                110       \n",
      "_________________________________________________________________\n",
      "dropout_48 (Dropout)         (None, 10)                0         \n",
      "_________________________________________________________________\n",
      "dense_57 (Dense)             (None, 1)                 11        \n",
      "=================================================================\n",
      "Total params: 851\n",
      "Trainable params: 851\n",
      "Non-trainable params: 0\n",
      "_________________________________________________________________\n"
     ]
    }
   ],
   "source": [
    "model = initiate('mlp')\n",
    "model.summary()"
   ]
  },
  {
   "cell_type": "code",
   "execution_count": 156,
   "metadata": {},
   "outputs": [],
   "source": [
    "# Компилиране на модела с оптимизатор sgd, пробвах с Adagrad и Adam\n",
    "sgd = SGD(lr=0.01, decay=1e-6, momentum=0.9, nesterov=True)\n",
    "model.compile(optimizer=sgd, loss='mean_squared_error', metrics=['acc'])"
   ]
  },
  {
   "cell_type": "code",
   "execution_count": 157,
   "metadata": {},
   "outputs": [
    {
     "name": "stdout",
     "output_type": "stream",
     "text": [
      "Train on 16000 samples, validate on 4000 samples\n",
      "Epoch 1/10\n",
      " - 1s - loss: 0.5017 - acc: 0.4983 - val_loss: 0.4935 - val_acc: 0.5065\n",
      "Epoch 2/10\n",
      " - 0s - loss: 0.5017 - acc: 0.4983 - val_loss: 0.4935 - val_acc: 0.5065\n",
      "Epoch 3/10\n",
      " - 0s - loss: 0.5017 - acc: 0.4983 - val_loss: 0.4935 - val_acc: 0.5065\n",
      "Epoch 4/10\n",
      " - 0s - loss: 0.5017 - acc: 0.4983 - val_loss: 0.4935 - val_acc: 0.5065\n",
      "Epoch 5/10\n",
      " - 0s - loss: 0.5017 - acc: 0.4983 - val_loss: 0.4935 - val_acc: 0.5065\n",
      "Epoch 6/10\n",
      " - 0s - loss: 0.5017 - acc: 0.4983 - val_loss: 0.4935 - val_acc: 0.5065\n",
      "Epoch 7/10\n",
      " - 0s - loss: 0.5017 - acc: 0.4983 - val_loss: 0.4935 - val_acc: 0.5065\n",
      "Epoch 8/10\n",
      " - 0s - loss: 0.5017 - acc: 0.4983 - val_loss: 0.4935 - val_acc: 0.5065\n",
      "Epoch 9/10\n",
      " - 0s - loss: 0.5017 - acc: 0.4983 - val_loss: 0.4935 - val_acc: 0.5065\n",
      "Epoch 10/10\n",
      " - 0s - loss: 0.5017 - acc: 0.4983 - val_loss: 0.4935 - val_acc: 0.5065\n"
     ]
    }
   ],
   "source": [
    "epochs = 10\n",
    "\n",
    "estimator = model.fit(X_train, y_train,\n",
    "                      validation_split=0.2,\n",
    "                      epochs=epochs, batch_size=128, verbose=2)"
   ]
  },
  {
   "cell_type": "code",
   "execution_count": 158,
   "metadata": {},
   "outputs": [
    {
     "name": "stdout",
     "output_type": "stream",
     "text": [
      "Training accuracy: 49.83% / Validation accuracy: 50.65%\n"
     ]
    }
   ],
   "source": [
    "print(\"Training accuracy: %.2f%% / Validation accuracy: %.2f%%\" % \n",
    "      (100*estimator.history['acc'][-1], 100*estimator.history['val_acc'][-1]))"
   ]
  },
  {
   "cell_type": "code",
   "execution_count": 159,
   "metadata": {},
   "outputs": [],
   "source": [
    "forest = RandomForestClassifier( n_estimators = 100 )\n",
    "forest = forest.fit( X_train, y_train)"
   ]
  },
  {
   "cell_type": "code",
   "execution_count": 160,
   "metadata": {},
   "outputs": [
    {
     "data": {
      "text/plain": [
       "0.81699999999999995"
      ]
     },
     "execution_count": 160,
     "metadata": {},
     "output_type": "execute_result"
    }
   ],
   "source": [
    "forest.score(X_test,y_test)"
   ]
  },
  {
   "cell_type": "code",
   "execution_count": 161,
   "metadata": {},
   "outputs": [
    {
     "data": {
      "text/plain": [
       "0.83699999999999997"
      ]
     },
     "execution_count": 161,
     "metadata": {},
     "output_type": "execute_result"
    }
   ],
   "source": [
    "model = LogisticRegression()\n",
    "model.fit(X_train,y_train)\n",
    "model.score(X_test,y_test)"
   ]
  },
  {
   "cell_type": "markdown",
   "metadata": {},
   "source": [
    "# Най-добри резултати се получиха с логистична регресия и \"торба с думи\", пробвах доста варианти за невронната мрежа(оптимизатори, лос функции и аквивации), но без успех"
   ]
  },
  {
   "cell_type": "markdown",
   "metadata": {},
   "source": [
    "# По-добро разучаване на keras и какви данни да се подават от Word2Vec във формата на вектор"
   ]
  },
  {
   "cell_type": "code",
   "execution_count": null,
   "metadata": {},
   "outputs": [],
   "source": []
  }
 ],
 "metadata": {
  "kernelspec": {
   "display_name": "Python 3",
   "language": "python",
   "name": "python3"
  },
  "language_info": {
   "codemirror_mode": {
    "name": "ipython",
    "version": 3
   },
   "file_extension": ".py",
   "mimetype": "text/x-python",
   "name": "python",
   "nbconvert_exporter": "python",
   "pygments_lexer": "ipython3",
   "version": "3.6.3"
  }
 },
 "nbformat": 4,
 "nbformat_minor": 2
}
