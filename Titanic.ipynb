{
 "cells": [
  {
   "cell_type": "code",
   "execution_count": 1,
   "metadata": {},
   "outputs": [],
   "source": [
    "import numpy as np\n",
    "import matplotlib.pyplot as plt\n",
    "import pandas as pd\n",
    "import seaborn as sns\n",
    "import mglearn\n",
    "\n",
    "from IPython.display import display\n",
    "from sklearn.model_selection import train_test_split\n",
    "from sklearn.linear_model import LogisticRegression\n",
    "from sklearn.ensemble import RandomForestClassifier\n",
    "from sklearn.model_selection import GridSearchCV\n",
    "\n",
    "%matplotlib inline"
   ]
  },
  {
   "cell_type": "markdown",
   "metadata": {},
   "source": [
    "Да видим данните "
   ]
  },
  {
   "cell_type": "code",
   "execution_count": 2,
   "metadata": {},
   "outputs": [
    {
     "data": {
      "text/html": [
       "<div>\n",
       "<style>\n",
       "    .dataframe thead tr:only-child th {\n",
       "        text-align: right;\n",
       "    }\n",
       "\n",
       "    .dataframe thead th {\n",
       "        text-align: left;\n",
       "    }\n",
       "\n",
       "    .dataframe tbody tr th {\n",
       "        vertical-align: top;\n",
       "    }\n",
       "</style>\n",
       "<table border=\"1\" class=\"dataframe\">\n",
       "  <thead>\n",
       "    <tr style=\"text-align: right;\">\n",
       "      <th></th>\n",
       "      <th>PassengerId</th>\n",
       "      <th>Survived</th>\n",
       "      <th>Pclass</th>\n",
       "      <th>Name</th>\n",
       "      <th>Sex</th>\n",
       "      <th>Age</th>\n",
       "      <th>SibSp</th>\n",
       "      <th>Parch</th>\n",
       "      <th>Ticket</th>\n",
       "      <th>Fare</th>\n",
       "      <th>Cabin</th>\n",
       "      <th>Embarked</th>\n",
       "    </tr>\n",
       "  </thead>\n",
       "  <tbody>\n",
       "    <tr>\n",
       "      <th>0</th>\n",
       "      <td>1</td>\n",
       "      <td>0</td>\n",
       "      <td>3</td>\n",
       "      <td>Braund, Mr. Owen Harris</td>\n",
       "      <td>male</td>\n",
       "      <td>22.0</td>\n",
       "      <td>1</td>\n",
       "      <td>0</td>\n",
       "      <td>A/5 21171</td>\n",
       "      <td>7.2500</td>\n",
       "      <td>NaN</td>\n",
       "      <td>S</td>\n",
       "    </tr>\n",
       "    <tr>\n",
       "      <th>1</th>\n",
       "      <td>2</td>\n",
       "      <td>1</td>\n",
       "      <td>1</td>\n",
       "      <td>Cumings, Mrs. John Bradley (Florence Briggs Th...</td>\n",
       "      <td>female</td>\n",
       "      <td>38.0</td>\n",
       "      <td>1</td>\n",
       "      <td>0</td>\n",
       "      <td>PC 17599</td>\n",
       "      <td>71.2833</td>\n",
       "      <td>C85</td>\n",
       "      <td>C</td>\n",
       "    </tr>\n",
       "    <tr>\n",
       "      <th>2</th>\n",
       "      <td>3</td>\n",
       "      <td>1</td>\n",
       "      <td>3</td>\n",
       "      <td>Heikkinen, Miss. Laina</td>\n",
       "      <td>female</td>\n",
       "      <td>26.0</td>\n",
       "      <td>0</td>\n",
       "      <td>0</td>\n",
       "      <td>STON/O2. 3101282</td>\n",
       "      <td>7.9250</td>\n",
       "      <td>NaN</td>\n",
       "      <td>S</td>\n",
       "    </tr>\n",
       "    <tr>\n",
       "      <th>3</th>\n",
       "      <td>4</td>\n",
       "      <td>1</td>\n",
       "      <td>1</td>\n",
       "      <td>Futrelle, Mrs. Jacques Heath (Lily May Peel)</td>\n",
       "      <td>female</td>\n",
       "      <td>35.0</td>\n",
       "      <td>1</td>\n",
       "      <td>0</td>\n",
       "      <td>113803</td>\n",
       "      <td>53.1000</td>\n",
       "      <td>C123</td>\n",
       "      <td>S</td>\n",
       "    </tr>\n",
       "    <tr>\n",
       "      <th>4</th>\n",
       "      <td>5</td>\n",
       "      <td>0</td>\n",
       "      <td>3</td>\n",
       "      <td>Allen, Mr. William Henry</td>\n",
       "      <td>male</td>\n",
       "      <td>35.0</td>\n",
       "      <td>0</td>\n",
       "      <td>0</td>\n",
       "      <td>373450</td>\n",
       "      <td>8.0500</td>\n",
       "      <td>NaN</td>\n",
       "      <td>S</td>\n",
       "    </tr>\n",
       "    <tr>\n",
       "      <th>...</th>\n",
       "      <td>...</td>\n",
       "      <td>...</td>\n",
       "      <td>...</td>\n",
       "      <td>...</td>\n",
       "      <td>...</td>\n",
       "      <td>...</td>\n",
       "      <td>...</td>\n",
       "      <td>...</td>\n",
       "      <td>...</td>\n",
       "      <td>...</td>\n",
       "      <td>...</td>\n",
       "      <td>...</td>\n",
       "    </tr>\n",
       "    <tr>\n",
       "      <th>886</th>\n",
       "      <td>887</td>\n",
       "      <td>0</td>\n",
       "      <td>2</td>\n",
       "      <td>Montvila, Rev. Juozas</td>\n",
       "      <td>male</td>\n",
       "      <td>27.0</td>\n",
       "      <td>0</td>\n",
       "      <td>0</td>\n",
       "      <td>211536</td>\n",
       "      <td>13.0000</td>\n",
       "      <td>NaN</td>\n",
       "      <td>S</td>\n",
       "    </tr>\n",
       "    <tr>\n",
       "      <th>887</th>\n",
       "      <td>888</td>\n",
       "      <td>1</td>\n",
       "      <td>1</td>\n",
       "      <td>Graham, Miss. Margaret Edith</td>\n",
       "      <td>female</td>\n",
       "      <td>19.0</td>\n",
       "      <td>0</td>\n",
       "      <td>0</td>\n",
       "      <td>112053</td>\n",
       "      <td>30.0000</td>\n",
       "      <td>B42</td>\n",
       "      <td>S</td>\n",
       "    </tr>\n",
       "    <tr>\n",
       "      <th>888</th>\n",
       "      <td>889</td>\n",
       "      <td>0</td>\n",
       "      <td>3</td>\n",
       "      <td>Johnston, Miss. Catherine Helen \"Carrie\"</td>\n",
       "      <td>female</td>\n",
       "      <td>NaN</td>\n",
       "      <td>1</td>\n",
       "      <td>2</td>\n",
       "      <td>W./C. 6607</td>\n",
       "      <td>23.4500</td>\n",
       "      <td>NaN</td>\n",
       "      <td>S</td>\n",
       "    </tr>\n",
       "    <tr>\n",
       "      <th>889</th>\n",
       "      <td>890</td>\n",
       "      <td>1</td>\n",
       "      <td>1</td>\n",
       "      <td>Behr, Mr. Karl Howell</td>\n",
       "      <td>male</td>\n",
       "      <td>26.0</td>\n",
       "      <td>0</td>\n",
       "      <td>0</td>\n",
       "      <td>111369</td>\n",
       "      <td>30.0000</td>\n",
       "      <td>C148</td>\n",
       "      <td>C</td>\n",
       "    </tr>\n",
       "    <tr>\n",
       "      <th>890</th>\n",
       "      <td>891</td>\n",
       "      <td>0</td>\n",
       "      <td>3</td>\n",
       "      <td>Dooley, Mr. Patrick</td>\n",
       "      <td>male</td>\n",
       "      <td>32.0</td>\n",
       "      <td>0</td>\n",
       "      <td>0</td>\n",
       "      <td>370376</td>\n",
       "      <td>7.7500</td>\n",
       "      <td>NaN</td>\n",
       "      <td>Q</td>\n",
       "    </tr>\n",
       "  </tbody>\n",
       "</table>\n",
       "<p>891 rows × 12 columns</p>\n",
       "</div>"
      ],
      "text/plain": [
       "     PassengerId  Survived  Pclass  \\\n",
       "0              1         0       3   \n",
       "1              2         1       1   \n",
       "2              3         1       3   \n",
       "3              4         1       1   \n",
       "4              5         0       3   \n",
       "..           ...       ...     ...   \n",
       "886          887         0       2   \n",
       "887          888         1       1   \n",
       "888          889         0       3   \n",
       "889          890         1       1   \n",
       "890          891         0       3   \n",
       "\n",
       "                                                  Name     Sex   Age  SibSp  \\\n",
       "0                              Braund, Mr. Owen Harris    male  22.0      1   \n",
       "1    Cumings, Mrs. John Bradley (Florence Briggs Th...  female  38.0      1   \n",
       "2                               Heikkinen, Miss. Laina  female  26.0      0   \n",
       "3         Futrelle, Mrs. Jacques Heath (Lily May Peel)  female  35.0      1   \n",
       "4                             Allen, Mr. William Henry    male  35.0      0   \n",
       "..                                                 ...     ...   ...    ...   \n",
       "886                              Montvila, Rev. Juozas    male  27.0      0   \n",
       "887                       Graham, Miss. Margaret Edith  female  19.0      0   \n",
       "888           Johnston, Miss. Catherine Helen \"Carrie\"  female   NaN      1   \n",
       "889                              Behr, Mr. Karl Howell    male  26.0      0   \n",
       "890                                Dooley, Mr. Patrick    male  32.0      0   \n",
       "\n",
       "     Parch            Ticket     Fare Cabin Embarked  \n",
       "0        0         A/5 21171   7.2500   NaN        S  \n",
       "1        0          PC 17599  71.2833   C85        C  \n",
       "2        0  STON/O2. 3101282   7.9250   NaN        S  \n",
       "3        0            113803  53.1000  C123        S  \n",
       "4        0            373450   8.0500   NaN        S  \n",
       "..     ...               ...      ...   ...      ...  \n",
       "886      0            211536  13.0000   NaN        S  \n",
       "887      0            112053  30.0000   B42        S  \n",
       "888      2        W./C. 6607  23.4500   NaN        S  \n",
       "889      0            111369  30.0000  C148        C  \n",
       "890      0            370376   7.7500   NaN        Q  \n",
       "\n",
       "[891 rows x 12 columns]"
      ]
     },
     "execution_count": 2,
     "metadata": {},
     "output_type": "execute_result"
    }
   ],
   "source": [
    "pd.options.display.max_rows = 11\n",
    "pd.read_csv('data/titanic/train.csv')"
   ]
  },
  {
   "cell_type": "markdown",
   "metadata": {},
   "source": [
    "На места има NaN, да проверим"
   ]
  },
  {
   "cell_type": "code",
   "execution_count": 3,
   "metadata": {},
   "outputs": [
    {
     "data": {
      "text/plain": [
       "Survived      0\n",
       "Pclass        0\n",
       "Name          0\n",
       "Sex           0\n",
       "SibSp         0\n",
       "Parch         0\n",
       "Ticket        0\n",
       "Fare          0\n",
       "Embarked      2\n",
       "Age         177\n",
       "Cabin       687\n",
       "dtype: int64"
      ]
     },
     "execution_count": 3,
     "metadata": {},
     "output_type": "execute_result"
    }
   ],
   "source": [
    "data = pd.read_csv('data/titanic/train.csv', index_col='PassengerId')\n",
    "data.isnull().sum().sort_values()"
   ]
  },
  {
   "cell_type": "code",
   "execution_count": 4,
   "metadata": {},
   "outputs": [
    {
     "data": {
      "text/html": [
       "<div>\n",
       "<style>\n",
       "    .dataframe thead tr:only-child th {\n",
       "        text-align: right;\n",
       "    }\n",
       "\n",
       "    .dataframe thead th {\n",
       "        text-align: left;\n",
       "    }\n",
       "\n",
       "    .dataframe tbody tr th {\n",
       "        vertical-align: top;\n",
       "    }\n",
       "</style>\n",
       "<table border=\"1\" class=\"dataframe\">\n",
       "  <thead>\n",
       "    <tr style=\"text-align: right;\">\n",
       "      <th></th>\n",
       "      <th>Survived</th>\n",
       "      <th>Pclass</th>\n",
       "      <th>Name</th>\n",
       "      <th>Sex</th>\n",
       "      <th>Age</th>\n",
       "      <th>SibSp</th>\n",
       "      <th>Parch</th>\n",
       "      <th>Ticket</th>\n",
       "      <th>Fare</th>\n",
       "      <th>Cabin</th>\n",
       "      <th>Embarked</th>\n",
       "    </tr>\n",
       "    <tr>\n",
       "      <th>PassengerId</th>\n",
       "      <th></th>\n",
       "      <th></th>\n",
       "      <th></th>\n",
       "      <th></th>\n",
       "      <th></th>\n",
       "      <th></th>\n",
       "      <th></th>\n",
       "      <th></th>\n",
       "      <th></th>\n",
       "      <th></th>\n",
       "      <th></th>\n",
       "    </tr>\n",
       "  </thead>\n",
       "  <tbody>\n",
       "    <tr>\n",
       "      <th>62</th>\n",
       "      <td>1</td>\n",
       "      <td>1</td>\n",
       "      <td>Icard, Miss. Amelie</td>\n",
       "      <td>female</td>\n",
       "      <td>38.0</td>\n",
       "      <td>0</td>\n",
       "      <td>0</td>\n",
       "      <td>113572</td>\n",
       "      <td>80.0</td>\n",
       "      <td>B28</td>\n",
       "      <td>NaN</td>\n",
       "    </tr>\n",
       "    <tr>\n",
       "      <th>830</th>\n",
       "      <td>1</td>\n",
       "      <td>1</td>\n",
       "      <td>Stone, Mrs. George Nelson (Martha Evelyn)</td>\n",
       "      <td>female</td>\n",
       "      <td>62.0</td>\n",
       "      <td>0</td>\n",
       "      <td>0</td>\n",
       "      <td>113572</td>\n",
       "      <td>80.0</td>\n",
       "      <td>B28</td>\n",
       "      <td>NaN</td>\n",
       "    </tr>\n",
       "  </tbody>\n",
       "</table>\n",
       "</div>"
      ],
      "text/plain": [
       "             Survived  Pclass                                       Name  \\\n",
       "PassengerId                                                                \n",
       "62                  1       1                        Icard, Miss. Amelie   \n",
       "830                 1       1  Stone, Mrs. George Nelson (Martha Evelyn)   \n",
       "\n",
       "                Sex   Age  SibSp  Parch  Ticket  Fare Cabin Embarked  \n",
       "PassengerId                                                           \n",
       "62           female  38.0      0      0  113572  80.0   B28      NaN  \n",
       "830          female  62.0      0      0  113572  80.0   B28      NaN  "
      ]
     },
     "execution_count": 4,
     "metadata": {},
     "output_type": "execute_result"
    }
   ],
   "source": [
    "data[data.Embarked.isnull()]"
   ]
  },
  {
   "cell_type": "markdown",
   "metadata": {},
   "source": [
    "Пътуват в една кабина с еднакъв билет, но не са голям фактор, ще им сложим някое пристанище"
   ]
  },
  {
   "cell_type": "code",
   "execution_count": 5,
   "metadata": {},
   "outputs": [
    {
     "data": {
      "text/plain": [
       "S    644\n",
       "C    168\n",
       "Q     77\n",
       "Name: Embarked, dtype: int64"
      ]
     },
     "execution_count": 5,
     "metadata": {},
     "output_type": "execute_result"
    }
   ],
   "source": [
    "data.Embarked.value_counts()"
   ]
  },
  {
   "cell_type": "code",
   "execution_count": 6,
   "metadata": {},
   "outputs": [],
   "source": [
    "data['Embarked'].fillna('Q', inplace=True);"
   ]
  },
  {
   "cell_type": "markdown",
   "metadata": {},
   "source": [
    "Да си създадем колона с титли и да попълним колоната Age със средноаритметичното от дадена титла"
   ]
  },
  {
   "cell_type": "code",
   "execution_count": 7,
   "metadata": {},
   "outputs": [],
   "source": [
    "def create_title(data):\n",
    "    data['Title'] = data['Name'].str.extract('([A-Za-z]+)\\.', expand=False)"
   ]
  },
  {
   "cell_type": "code",
   "execution_count": 8,
   "metadata": {},
   "outputs": [],
   "source": [
    "create_title(data)"
   ]
  },
  {
   "cell_type": "code",
   "execution_count": 9,
   "metadata": {},
   "outputs": [
    {
     "data": {
      "text/plain": [
       "Mr          517\n",
       "Miss        182\n",
       "Mrs         125\n",
       "Master       40\n",
       "Dr            7\n",
       "Rev           6\n",
       "Mlle          2\n",
       "Col           2\n",
       "Major         2\n",
       "Jonkheer      1\n",
       "Capt          1\n",
       "Ms            1\n",
       "Mme           1\n",
       "Lady          1\n",
       "Sir           1\n",
       "Don           1\n",
       "Countess      1\n",
       "Name: Title, dtype: int64"
      ]
     },
     "execution_count": 9,
     "metadata": {},
     "output_type": "execute_result"
    }
   ],
   "source": [
    "pd.options.display.max_rows = 25\n",
    "data['Title'].value_counts()"
   ]
  },
  {
   "cell_type": "markdown",
   "metadata": {},
   "source": [
    "Има няколко имена за редактиране (да групираме докторите и поповете в една титла и всички останали рядко срещани титли с Other)"
   ]
  },
  {
   "cell_type": "code",
   "execution_count": 10,
   "metadata": {},
   "outputs": [],
   "source": [
    "titles = ['Mr','Mrs','Miss','Master','Heal']\n",
    "def fix_names(data):\n",
    "    data.loc[data.Title == 'Mlle', 'Title'] = 'Miss'\n",
    "    data.loc[data.Title == 'Ms', 'Title']   = 'Miss'\n",
    "    data.loc[data.Title == 'Mme', 'Title']  = 'Mrs'\n",
    "    data.loc[data.Title == 'Lady', 'Title']  = 'Mrs'\n",
    "    data.loc[data.Title == 'Dr', 'Title']  = 'Heal'\n",
    "    data.loc[data.Title == 'Rev', 'Title']  = 'Heal'\n",
    "    data.loc[~data.Title.isin(titles), 'Title'] = 'Other'"
   ]
  },
  {
   "cell_type": "code",
   "execution_count": 11,
   "metadata": {},
   "outputs": [],
   "source": [
    "fix_names(data)\n",
    "titles.append('Other')"
   ]
  },
  {
   "cell_type": "code",
   "execution_count": 12,
   "metadata": {},
   "outputs": [
    {
     "data": {
      "text/plain": [
       "Mr        517\n",
       "Miss      185\n",
       "Mrs       127\n",
       "Master     40\n",
       "Heal       13\n",
       "Other       9\n",
       "Name: Title, dtype: int64"
      ]
     },
     "execution_count": 12,
     "metadata": {},
     "output_type": "execute_result"
    }
   ],
   "source": [
    "data['Title'].value_counts()\n"
   ]
  },
  {
   "cell_type": "markdown",
   "metadata": {},
   "source": [
    "Така титлите изглеждат по-добре\n",
    "Сега да попълним колоната за годините със средното за тези титли"
   ]
  },
  {
   "cell_type": "code",
   "execution_count": 13,
   "metadata": {},
   "outputs": [],
   "source": [
    "def add_avg_age(data):\n",
    "    for title in titles:\n",
    "        avg_age = data[data.Title == title]['Age'].mean()\n",
    "        data.loc[(data.Title == title) & (data.Age.isnull()), 'Age'] = avg_age"
   ]
  },
  {
   "cell_type": "code",
   "execution_count": 14,
   "metadata": {},
   "outputs": [],
   "source": [
    "add_avg_age(data)"
   ]
  },
  {
   "cell_type": "markdown",
   "metadata": {},
   "source": [
    "Да си направим колона от роднините, децата и спътниците\n"
   ]
  },
  {
   "cell_type": "code",
   "execution_count": 15,
   "metadata": {},
   "outputs": [],
   "source": [
    "data['FamilySize'] = data['SibSp'] + data['Parch'] + 1"
   ]
  },
  {
   "cell_type": "markdown",
   "metadata": {},
   "source": [
    "Да видим как можем да групираме годините"
   ]
  },
  {
   "cell_type": "code",
   "execution_count": 16,
   "metadata": {},
   "outputs": [
    {
     "data": {
      "text/html": [
       "<div>\n",
       "<style>\n",
       "    .dataframe thead tr:only-child th {\n",
       "        text-align: right;\n",
       "    }\n",
       "\n",
       "    .dataframe thead th {\n",
       "        text-align: left;\n",
       "    }\n",
       "\n",
       "    .dataframe tbody tr th {\n",
       "        vertical-align: top;\n",
       "    }\n",
       "</style>\n",
       "<table border=\"1\" class=\"dataframe\">\n",
       "  <thead>\n",
       "    <tr style=\"text-align: right;\">\n",
       "      <th></th>\n",
       "      <th>Survived</th>\n",
       "    </tr>\n",
       "    <tr>\n",
       "      <th>Age_Size</th>\n",
       "      <th></th>\n",
       "    </tr>\n",
       "  </thead>\n",
       "  <tbody>\n",
       "    <tr>\n",
       "      <th>(0.419, 18.0]</th>\n",
       "      <td>0.503497</td>\n",
       "    </tr>\n",
       "    <tr>\n",
       "      <th>(18.0, 22.0]</th>\n",
       "      <td>0.390625</td>\n",
       "    </tr>\n",
       "    <tr>\n",
       "      <th>(22.0, 28.0]</th>\n",
       "      <td>0.381679</td>\n",
       "    </tr>\n",
       "    <tr>\n",
       "      <th>(28.0, 32.368]</th>\n",
       "      <td>0.241379</td>\n",
       "    </tr>\n",
       "    <tr>\n",
       "      <th>(32.368, 34.0]</th>\n",
       "      <td>0.406250</td>\n",
       "    </tr>\n",
       "    <tr>\n",
       "      <th>(34.0, 43.0]</th>\n",
       "      <td>0.476923</td>\n",
       "    </tr>\n",
       "    <tr>\n",
       "      <th>(43.0, 80.0]</th>\n",
       "      <td>0.370968</td>\n",
       "    </tr>\n",
       "  </tbody>\n",
       "</table>\n",
       "</div>"
      ],
      "text/plain": [
       "                Survived\n",
       "Age_Size                \n",
       "(0.419, 18.0]   0.503497\n",
       "(18.0, 22.0]    0.390625\n",
       "(22.0, 28.0]    0.381679\n",
       "(28.0, 32.368]  0.241379\n",
       "(32.368, 34.0]  0.406250\n",
       "(34.0, 43.0]    0.476923\n",
       "(43.0, 80.0]    0.370968"
      ]
     },
     "execution_count": 16,
     "metadata": {},
     "output_type": "execute_result"
    }
   ],
   "source": [
    "temp = data.copy()\n",
    "temp['Age_Size']=pd.qcut(temp['Age'],7)\n",
    "temp.groupby(['Age_Size'])['Survived'].mean().to_frame()"
   ]
  },
  {
   "cell_type": "markdown",
   "metadata": {},
   "source": [
    "Много голям скок в последния раздел"
   ]
  },
  {
   "cell_type": "code",
   "execution_count": 17,
   "metadata": {},
   "outputs": [
    {
     "data": {
      "image/png": "[encoded data removed]",
      "text/plain": [
       "<matplotlib.figure.Figure at 0x19ecf7f0>"
      ]
     },
     "metadata": {},
     "output_type": "display_data"
    }
   ],
   "source": [
    "plt.plot(temp.groupby('Age').mean());"
   ]
  },
  {
   "cell_type": "code",
   "execution_count": 18,
   "metadata": {},
   "outputs": [
    {
     "data": {
      "text/html": [
       "<div>\n",
       "<style>\n",
       "    .dataframe thead tr:only-child th {\n",
       "        text-align: right;\n",
       "    }\n",
       "\n",
       "    .dataframe thead th {\n",
       "        text-align: left;\n",
       "    }\n",
       "\n",
       "    .dataframe tbody tr th {\n",
       "        vertical-align: top;\n",
       "    }\n",
       "</style>\n",
       "<table border=\"1\" class=\"dataframe\">\n",
       "  <thead>\n",
       "    <tr style=\"text-align: right;\">\n",
       "      <th></th>\n",
       "      <th>Survived</th>\n",
       "      <th>Name</th>\n",
       "      <th>Age</th>\n",
       "    </tr>\n",
       "    <tr>\n",
       "      <th>PassengerId</th>\n",
       "      <th></th>\n",
       "      <th></th>\n",
       "      <th></th>\n",
       "    </tr>\n",
       "  </thead>\n",
       "  <tbody>\n",
       "    <tr>\n",
       "      <th>631</th>\n",
       "      <td>1</td>\n",
       "      <td>Barkworth, Mr. Algernon Henry Wilson</td>\n",
       "      <td>80.0</td>\n",
       "    </tr>\n",
       "    <tr>\n",
       "      <th>852</th>\n",
       "      <td>0</td>\n",
       "      <td>Svensson, Mr. Johan</td>\n",
       "      <td>74.0</td>\n",
       "    </tr>\n",
       "    <tr>\n",
       "      <th>494</th>\n",
       "      <td>0</td>\n",
       "      <td>Artagaveytia, Mr. Ramon</td>\n",
       "      <td>71.0</td>\n",
       "    </tr>\n",
       "    <tr>\n",
       "      <th>97</th>\n",
       "      <td>0</td>\n",
       "      <td>Goldschmidt, Mr. George B</td>\n",
       "      <td>71.0</td>\n",
       "    </tr>\n",
       "    <tr>\n",
       "      <th>117</th>\n",
       "      <td>0</td>\n",
       "      <td>Connors, Mr. Patrick</td>\n",
       "      <td>70.5</td>\n",
       "    </tr>\n",
       "    <tr>\n",
       "      <th>746</th>\n",
       "      <td>0</td>\n",
       "      <td>Crosby, Capt. Edward Gifford</td>\n",
       "      <td>70.0</td>\n",
       "    </tr>\n",
       "    <tr>\n",
       "      <th>673</th>\n",
       "      <td>0</td>\n",
       "      <td>Mitchell, Mr. Henry Michael</td>\n",
       "      <td>70.0</td>\n",
       "    </tr>\n",
       "    <tr>\n",
       "      <th>34</th>\n",
       "      <td>0</td>\n",
       "      <td>Wheadon, Mr. Edward H</td>\n",
       "      <td>66.0</td>\n",
       "    </tr>\n",
       "    <tr>\n",
       "      <th>281</th>\n",
       "      <td>0</td>\n",
       "      <td>Duane, Mr. Frank</td>\n",
       "      <td>65.0</td>\n",
       "    </tr>\n",
       "    <tr>\n",
       "      <th>457</th>\n",
       "      <td>0</td>\n",
       "      <td>Millet, Mr. Francis Davis</td>\n",
       "      <td>65.0</td>\n",
       "    </tr>\n",
       "    <tr>\n",
       "      <th>55</th>\n",
       "      <td>0</td>\n",
       "      <td>Ostby, Mr. Engelhart Cornelius</td>\n",
       "      <td>65.0</td>\n",
       "    </tr>\n",
       "    <tr>\n",
       "      <th>546</th>\n",
       "      <td>0</td>\n",
       "      <td>Nicholson, Mr. Arthur Ernest</td>\n",
       "      <td>64.0</td>\n",
       "    </tr>\n",
       "    <tr>\n",
       "      <th>...</th>\n",
       "      <td>...</td>\n",
       "      <td>...</td>\n",
       "      <td>...</td>\n",
       "    </tr>\n",
       "    <tr>\n",
       "      <th>276</th>\n",
       "      <td>1</td>\n",
       "      <td>Andrews, Miss. Kornelia Theodosia</td>\n",
       "      <td>63.0</td>\n",
       "    </tr>\n",
       "    <tr>\n",
       "      <th>830</th>\n",
       "      <td>1</td>\n",
       "      <td>Stone, Mrs. George Nelson (Martha Evelyn)</td>\n",
       "      <td>62.0</td>\n",
       "    </tr>\n",
       "    <tr>\n",
       "      <th>556</th>\n",
       "      <td>0</td>\n",
       "      <td>Wright, Mr. George</td>\n",
       "      <td>62.0</td>\n",
       "    </tr>\n",
       "    <tr>\n",
       "      <th>571</th>\n",
       "      <td>1</td>\n",
       "      <td>Harris, Mr. George</td>\n",
       "      <td>62.0</td>\n",
       "    </tr>\n",
       "    <tr>\n",
       "      <th>253</th>\n",
       "      <td>0</td>\n",
       "      <td>Stead, Mr. William Thomas</td>\n",
       "      <td>62.0</td>\n",
       "    </tr>\n",
       "    <tr>\n",
       "      <th>327</th>\n",
       "      <td>0</td>\n",
       "      <td>Nysveen, Mr. Johan Hansen</td>\n",
       "      <td>61.0</td>\n",
       "    </tr>\n",
       "    <tr>\n",
       "      <th>626</th>\n",
       "      <td>0</td>\n",
       "      <td>Sutton, Mr. Frederick</td>\n",
       "      <td>61.0</td>\n",
       "    </tr>\n",
       "    <tr>\n",
       "      <th>171</th>\n",
       "      <td>0</td>\n",
       "      <td>Van der hoef, Mr. Wyckoff</td>\n",
       "      <td>61.0</td>\n",
       "    </tr>\n",
       "    <tr>\n",
       "      <th>685</th>\n",
       "      <td>0</td>\n",
       "      <td>Brown, Mr. Thomas William Solomon</td>\n",
       "      <td>60.0</td>\n",
       "    </tr>\n",
       "    <tr>\n",
       "      <th>695</th>\n",
       "      <td>0</td>\n",
       "      <td>Weir, Col. John</td>\n",
       "      <td>60.0</td>\n",
       "    </tr>\n",
       "    <tr>\n",
       "      <th>367</th>\n",
       "      <td>1</td>\n",
       "      <td>Warren, Mrs. Frank Manley (Anna Sophia Atkinson)</td>\n",
       "      <td>60.0</td>\n",
       "    </tr>\n",
       "    <tr>\n",
       "      <th>588</th>\n",
       "      <td>1</td>\n",
       "      <td>Frolicher-Stehli, Mr. Maxmillian</td>\n",
       "      <td>60.0</td>\n",
       "    </tr>\n",
       "  </tbody>\n",
       "</table>\n",
       "<p>26 rows × 3 columns</p>\n",
       "</div>"
      ],
      "text/plain": [
       "             Survived                                              Name   Age\n",
       "PassengerId                                                                  \n",
       "631                 1              Barkworth, Mr. Algernon Henry Wilson  80.0\n",
       "852                 0                               Svensson, Mr. Johan  74.0\n",
       "494                 0                           Artagaveytia, Mr. Ramon  71.0\n",
       "97                  0                         Goldschmidt, Mr. George B  71.0\n",
       "117                 0                              Connors, Mr. Patrick  70.5\n",
       "746                 0                      Crosby, Capt. Edward Gifford  70.0\n",
       "673                 0                       Mitchell, Mr. Henry Michael  70.0\n",
       "34                  0                             Wheadon, Mr. Edward H  66.0\n",
       "281                 0                                  Duane, Mr. Frank  65.0\n",
       "457                 0                         Millet, Mr. Francis Davis  65.0\n",
       "55                  0                    Ostby, Mr. Engelhart Cornelius  65.0\n",
       "546                 0                      Nicholson, Mr. Arthur Ernest  64.0\n",
       "...               ...                                               ...   ...\n",
       "276                 1                 Andrews, Miss. Kornelia Theodosia  63.0\n",
       "830                 1         Stone, Mrs. George Nelson (Martha Evelyn)  62.0\n",
       "556                 0                                Wright, Mr. George  62.0\n",
       "571                 1                                Harris, Mr. George  62.0\n",
       "253                 0                         Stead, Mr. William Thomas  62.0\n",
       "327                 0                         Nysveen, Mr. Johan Hansen  61.0\n",
       "626                 0                             Sutton, Mr. Frederick  61.0\n",
       "171                 0                         Van der hoef, Mr. Wyckoff  61.0\n",
       "685                 0                 Brown, Mr. Thomas William Solomon  60.0\n",
       "695                 0                                   Weir, Col. John  60.0\n",
       "367                 1  Warren, Mrs. Frank Manley (Anna Sophia Atkinson)  60.0\n",
       "588                 1                  Frolicher-Stehli, Mr. Maxmillian  60.0\n",
       "\n",
       "[26 rows x 3 columns]"
      ]
     },
     "execution_count": 18,
     "metadata": {},
     "output_type": "execute_result"
    }
   ],
   "source": [
    "data[data.Age >= 60][['Survived', 'Name', 'Age']].sort_values(by='Age', ascending=False)\n"
   ]
  },
  {
   "cell_type": "code",
   "execution_count": 19,
   "metadata": {},
   "outputs": [
    {
     "data": {
      "text/html": [
       "<div>\n",
       "<style>\n",
       "    .dataframe thead tr:only-child th {\n",
       "        text-align: right;\n",
       "    }\n",
       "\n",
       "    .dataframe thead th {\n",
       "        text-align: left;\n",
       "    }\n",
       "\n",
       "    .dataframe tbody tr th {\n",
       "        vertical-align: top;\n",
       "    }\n",
       "</style>\n",
       "<table border=\"1\" class=\"dataframe\">\n",
       "  <thead>\n",
       "    <tr style=\"text-align: right;\">\n",
       "      <th></th>\n",
       "      <th>Survived</th>\n",
       "      <th>Name</th>\n",
       "      <th>Age</th>\n",
       "    </tr>\n",
       "    <tr>\n",
       "      <th>PassengerId</th>\n",
       "      <th></th>\n",
       "      <th></th>\n",
       "      <th></th>\n",
       "    </tr>\n",
       "  </thead>\n",
       "  <tbody>\n",
       "    <tr>\n",
       "      <th>631</th>\n",
       "      <td>1</td>\n",
       "      <td>Barkworth, Mr. Algernon Henry Wilson</td>\n",
       "      <td>80.0</td>\n",
       "    </tr>\n",
       "    <tr>\n",
       "      <th>276</th>\n",
       "      <td>1</td>\n",
       "      <td>Andrews, Miss. Kornelia Theodosia</td>\n",
       "      <td>63.0</td>\n",
       "    </tr>\n",
       "    <tr>\n",
       "      <th>484</th>\n",
       "      <td>1</td>\n",
       "      <td>Turkula, Mrs. (Hedwig)</td>\n",
       "      <td>63.0</td>\n",
       "    </tr>\n",
       "    <tr>\n",
       "      <th>571</th>\n",
       "      <td>1</td>\n",
       "      <td>Harris, Mr. George</td>\n",
       "      <td>62.0</td>\n",
       "    </tr>\n",
       "    <tr>\n",
       "      <th>830</th>\n",
       "      <td>1</td>\n",
       "      <td>Stone, Mrs. George Nelson (Martha Evelyn)</td>\n",
       "      <td>62.0</td>\n",
       "    </tr>\n",
       "    <tr>\n",
       "      <th>367</th>\n",
       "      <td>1</td>\n",
       "      <td>Warren, Mrs. Frank Manley (Anna Sophia Atkinson)</td>\n",
       "      <td>60.0</td>\n",
       "    </tr>\n",
       "    <tr>\n",
       "      <th>588</th>\n",
       "      <td>1</td>\n",
       "      <td>Frolicher-Stehli, Mr. Maxmillian</td>\n",
       "      <td>60.0</td>\n",
       "    </tr>\n",
       "  </tbody>\n",
       "</table>\n",
       "</div>"
      ],
      "text/plain": [
       "             Survived                                              Name   Age\n",
       "PassengerId                                                                  \n",
       "631                 1              Barkworth, Mr. Algernon Henry Wilson  80.0\n",
       "276                 1                 Andrews, Miss. Kornelia Theodosia  63.0\n",
       "484                 1                            Turkula, Mrs. (Hedwig)  63.0\n",
       "571                 1                                Harris, Mr. George  62.0\n",
       "830                 1         Stone, Mrs. George Nelson (Martha Evelyn)  62.0\n",
       "367                 1  Warren, Mrs. Frank Manley (Anna Sophia Atkinson)  60.0\n",
       "588                 1                  Frolicher-Stehli, Mr. Maxmillian  60.0"
      ]
     },
     "execution_count": 19,
     "metadata": {},
     "output_type": "execute_result"
    }
   ],
   "source": [
    "data[((data.Age >= 60) & (data.Survived == 1))][['Survived', 'Name', 'Age']].sort_values(by='Age', ascending=False)\n"
   ]
  },
  {
   "cell_type": "markdown",
   "metadata": {},
   "source": [
    "Възрастните хора, май нямат много късмет, но пък най-старият пътник е оцелял, и все пак тази информация не ни помага повече да разделим оформените групички от години"
   ]
  },
  {
   "cell_type": "markdown",
   "metadata": {},
   "source": [
    "Да разгледаме билетите"
   ]
  },
  {
   "cell_type": "code",
   "execution_count": 20,
   "metadata": {},
   "outputs": [
    {
     "data": {
      "text/plain": [
       "array(['WE/P 5735', 'W/C 14208', 'W.E.P. 5734', 'W./C. 6609', 'W./C. 6608',\n",
       "       'W./C. 6607', 'W./C. 14263', 'W./C. 14258', 'SW/PP 751',\n",
       "       'STON/O2. 3101290', 'STON/O2. 3101283', 'STON/O2. 3101282',\n",
       "       'STON/O2. 3101279', 'STON/O2. 3101271', 'STON/O 2. 3101294',\n",
       "       'STON/O 2. 3101293', 'STON/O 2. 3101292', 'STON/O 2. 3101289',\n",
       "       'STON/O 2. 3101288', 'STON/O 2. 3101286', 'STON/O 2. 3101285',\n",
       "       'STON/O 2. 3101280', 'STON/O 2. 3101275', 'STON/O 2. 3101274',\n",
       "       'STON/O 2. 3101273', 'STON/O 2. 3101269', 'SOTON/OQ 392090',\n",
       "       'SOTON/OQ 392089', 'SOTON/OQ 392086', 'SOTON/OQ 392082',\n",
       "       'SOTON/OQ 392076', 'SOTON/OQ 3101317', 'SOTON/OQ 3101316',\n",
       "       'SOTON/O2 3101287', 'SOTON/O2 3101272', 'SOTON/O.Q. 392087',\n",
       "       'SOTON/O.Q. 392078', 'SOTON/O.Q. 3101312', 'SOTON/O.Q. 3101311',\n",
       "       'SOTON/O.Q. 3101310', 'SOTON/O.Q. 3101307', 'SOTON/O.Q. 3101306',\n",
       "       'SOTON/O.Q. 3101305', 'SO/C 14885', 'SCO/W 1585', 'SC/Paris 2163',\n",
       "       'SC/Paris 2123', 'SC/PARIS 2167', 'SC/PARIS 2149', 'SC/PARIS 2146',\n",
       "       'SC/PARIS 2133', 'SC/PARIS 2131', 'SC/AH Basle 541', 'SC/AH 3085',\n",
       "       'SC/AH 29037', 'SC 1748', 'S.W./PP 752', 'S.P. 3464', 'S.O.P. 1166',\n",
       "       'S.O.C. 14879', 'S.O./P.P. 751', 'S.O./P.P. 3', 'S.C./PARIS 2079',\n",
       "       'S.C./A.4. 23567', 'PP 9549', 'PP 4348', 'PC 17761', 'PC 17760',\n",
       "       'PC 17759', 'PC 17758', 'PC 17757', 'PC 17756', 'PC 17755',\n",
       "       'PC 17754', 'PC 17612', 'PC 17611', 'PC 17610', 'PC 17609',\n",
       "       'PC 17608', 'PC 17605', 'PC 17604', 'PC 17603', 'PC 17601',\n",
       "       'PC 17600', 'PC 17599', 'PC 17597', 'PC 17596', 'PC 17595',\n",
       "       'PC 17593', 'PC 17592', 'PC 17590', 'PC 17585', 'PC 17582',\n",
       "       'PC 17572', 'PC 17569', 'PC 17558', 'PC 17485', 'PC 17483',\n",
       "       'PC 17482', 'PC 17477', 'PC 17476', 'PC 17475', 'PC 17474',\n",
       "       'PC 17473', 'PC 17318', 'P/PP 3381', 'LINE', 'Fa 265302',\n",
       "       'F.C.C. 13531', 'F.C.C. 13529', 'F.C.C. 13528', 'F.C. 12750',\n",
       "       'CA. 2343', 'CA. 2314', 'CA 2144', 'C.A./SOTON 34068', 'C.A. 6212',\n",
       "       'C.A. 5547', 'C.A. 37671', 'C.A. 34651', 'C.A. 34260', 'C.A. 33595',\n",
       "       'C.A. 33112', 'C.A. 33111', 'C.A. 31921', 'C.A. 31026',\n",
       "       'C.A. 29566', 'C.A. 29395', 'C.A. 29178', 'C.A. 2673', 'C.A. 24580',\n",
       "       'C.A. 24579', 'C.A. 2315', 'C.A. 18723', 'C.A. 17248', 'C 7077',\n",
       "       'C 7076', 'C 7075', 'C 4001', 'C 17369', 'A4. 54510', 'A/S 2816',\n",
       "       'A/5. 851', 'A/5. 3337', 'A/5. 3336', 'A/5. 2151', 'A/5. 13032',\n",
       "       'A/5. 10482', 'A/5 3902', 'A/5 3594', 'A/5 3540', 'A/5 3536',\n",
       "       'A/5 2817', 'A/5 2466', 'A/5 21174', 'A/5 21173', 'A/5 21172',\n",
       "       'A/5 21171', 'A/4. 39886', 'A/4. 34244', 'A/4. 20589', 'A/4 48871',\n",
       "       'A/4 45380', 'A.5. 18509', 'A.5. 11206', 'A./5. 3235', 'A./5. 2152',\n",
       "       '9234', '8475', '8471', '7598', '7553', '7552', '7546', '7545',\n",
       "       '7540', '7534', '7267', '695', '693', '6563', '65306', '65304',\n",
       "       '65303', '5727', '54636', '4579', '4138', '4137', '4136', '4135',\n",
       "       '4134', '4133', '394140', '392096', '392092', '392091', '386525',\n",
       "       '384461', '383121', '382652', '382651', '382649', '376566',\n",
       "       '376564', '374910', '374887', '374746', '373450', '372622',\n",
       "       '371362', '371110', '371060', '370377', '370376', '370375',\n",
       "       '370373', '370372', '370371', '370370', '370369', '370365',\n",
       "       '370129', '36973', '36967', '36963', '36947', '36928', '368703',\n",
       "       '36866', '36865', '36864', '368323', '367655', '367232', '367231',\n",
       "       '367230', '367229', '367228', '367226', '36568', '365226', '365222',\n",
       "       '364851', '364850', '364849', '364848', '364846', '364516',\n",
       "       '364512', '364511', '364506', '364500', '364499', '364498',\n",
       "       '363592', '363294', '363291', '362316', '36209', '358585', '35852',\n",
       "       '35851', '35281', '35273', '350417', '350407', '350406', '350404',\n",
       "       '350060', '350052', '350050', '350048', '350047', '350046',\n",
       "       '350043', '350042', '350036', '350035', '350034', '350029',\n",
       "       '350026', '350025', '349912', '349910', '349909', '349257',\n",
       "       '349256', '349254', '349253', '349252', '349251', '349249',\n",
       "       '349248', '349247', '349246', '349245', '349244', '349243',\n",
       "       '349242', '349241', '349240', '349239', '349237', '349236',\n",
       "       '349234', '349233', '349231', '349228', '349227', '349225',\n",
       "       '349224', '349223', '349222', '349221', '349219', '349218',\n",
       "       '349217', '349216', '349215', '349214', '349213', '349212',\n",
       "       '349210', '349209', '349208', '349207', '349206', '349205',\n",
       "       '349204', '349203', '349201', '348124', '348123', '348121',\n",
       "       '347743', '347742', '347470', '347468', '347466', '347464', '3474',\n",
       "       '347089', '347088', '347087', '347085', '347083', '347082',\n",
       "       '347081', '347080', '347078', '347077', '347076', '347074',\n",
       "       '347073', '347071', '347069', '347068', '347067', '347064',\n",
       "       '347063', '347062', '347061', '347060', '347054', '3460', '345783',\n",
       "       '345781', '345780', '345779', '345778', '345777', '345774',\n",
       "       '345773', '345770', '345769', '345767', '345765', '345764',\n",
       "       '345763', '345572', '345364', '343276', '343275', '343120',\n",
       "       '343095', '342826', '34218', '341826', '3411', '336439', '33638',\n",
       "       '335677', '335097', '334912', '330980', '330979', '330959',\n",
       "       '330958', '330935', '330932', '330931', '330923', '330919',\n",
       "       '330909', '330877', '324669', '323951', '323592', '315153',\n",
       "       '315151', '315098', '315097', '315096', '315094', '315093',\n",
       "       '315090', '315089', '315088', '315086', '315084', '315082',\n",
       "       '315037', '31418', '312993', '312992', '312991', '31028', '31027',\n",
       "       '3101298', '3101296', '3101295', '3101281', '3101278', '3101277',\n",
       "       '3101276', '3101267', '3101265', '3101264', '29751', '29750',\n",
       "       '2926', '29108', '29106', '29105', '29104', '29103', '2908',\n",
       "       '29011', '28665', '28664', '28551', '28425', '28424', '28403',\n",
       "       '28228', '28220', '28213', '28206', '28134', '27849', '27267',\n",
       "       '27042', '2700', '2699', '2697', '2695', '2694', '2693', '2691',\n",
       "       '2690', '2689', '2687', '2686', '2685', '2683', '2680', '2678',\n",
       "       '2677', '2674', '2672', '2671', '26707', '2669', '2668', '2667',\n",
       "       '2666', '2665', '2664', '2663', '2662', '2661', '2659', '2653',\n",
       "       '2651', '2650', '2649', '2648', '2647', '2641', '26360', '2631',\n",
       "       '2629', '2628', '2627', '2626', '2625', '2624', '2623', '2620',\n",
       "       '250655', '250653', '250652', '250651', '250649', '250648',\n",
       "       '250647', '250646', '250644', '250643', '248747', '248740',\n",
       "       '248738', '248733', '248731', '248727', '248723', '248706',\n",
       "       '248698', '244373', '244367', '244361', '244358', '244310',\n",
       "       '244278', '244270', '244252', '243880', '243847', '24160', '240929',\n",
       "       '239865', '239856', '239855', '239854', '239853', '237798',\n",
       "       '237789', '237736', '237671', '237668', '237565', '237442',\n",
       "       '236853', '236852', '236171', '234818', '234686', '234604',\n",
       "       '234360', '233866', '233639', '231945', '231919', '230434',\n",
       "       '230433', '230136', '230080', '229236', '228414', '226875',\n",
       "       '226593', '223596', '2223', '220845', '220367', '219533', '218629',\n",
       "       '21440', '211536', '2003', '19996', '19988', '19972', '19952',\n",
       "       '19950', '19947', '19943', '19928', '19877', '17764', '17474',\n",
       "       '17466', '17465', '17464', '17463', '17453', '17421', '16988',\n",
       "       '16966', '1601', '14973', '14313', '14312', '14311', '13568',\n",
       "       '13567', '13509', '13507', '13502', '13214', '13213', '13049',\n",
       "       '12749', '12460', '12233', '11967', '11813', '11774', '11771',\n",
       "       '11769', '11767', '11765', '11755', '11753', '11752', '11751',\n",
       "       '11668', '113807', '113806', '113804', '113803', '113800', '113798',\n",
       "       '113796', '113794', '113792', '113789', '113788', '113787',\n",
       "       '113786', '113784', '113783', '113781', '113776', '113773',\n",
       "       '113767', '113760', '113572', '113514', '113510', '113509',\n",
       "       '113505', '113503', '113501', '113059', '113056', '113055',\n",
       "       '113051', '113050', '113043', '113028', '112379', '112277',\n",
       "       '112059', '112058', '112053', '112052', '112050', '111428',\n",
       "       '111427', '111426', '111369', '111361', '111320', '111240',\n",
       "       '110813', '110564', '110465', '110413', '110152'], dtype=object)"
      ]
     },
     "execution_count": 20,
     "metadata": {},
     "output_type": "execute_result"
    }
   ],
   "source": [
    "data['Ticket'].sort_values(ascending=False).unique()\n"
   ]
  },
  {
   "cell_type": "markdown",
   "metadata": {},
   "source": [
    "Отделям няколко групи според с каква буква/цифра започва билета   W,S,F,C,A,1,2,3"
   ]
  },
  {
   "cell_type": "code",
   "execution_count": 21,
   "metadata": {},
   "outputs": [],
   "source": [
    "def one_hot_ticket(data): \n",
    "    data['TicketW'] = (data['Ticket'].astype(str).str[0]=='W').astype(float) \n",
    "    data['TicketS'] = (data['Ticket'].astype(str).str[0]=='S').astype(float) \n",
    "    data['TicketP'] = (data['Ticket'].astype(str).str[0]=='P').astype(float) \n",
    "    data['TicketF'] = (data['Ticket'].astype(str).str[0]=='F').astype(float) \n",
    "    data['TicketC'] = (data['Ticket'].astype(str).str[0]=='C').astype(float) \n",
    "    data['TicketA'] = (data['Ticket'].astype(str).str[0]=='A').astype(float) \n",
    "    data['Ticket1'] = (data['Ticket'].astype(str).str[0]=='1').astype(float) \n",
    "    data['Ticket2'] = (data['Ticket'].astype(str).str[0]=='2').astype(float) \n",
    "    data['Ticket3'] = (data['Ticket'].astype(str).str[0]=='3').astype(float) "
   ]
  },
  {
   "cell_type": "code",
   "execution_count": 22,
   "metadata": {},
   "outputs": [],
   "source": [
    "#one_hot_ticket(data) с този оne-hot нямаше\n",
    "#някакаква голяма разлика в крайната оценка (локално), но при пускането в kaggle, даде резултат с близо 0.25 по-малко"
   ]
  },
  {
   "cell_type": "markdown",
   "metadata": {},
   "source": [
    "Да видим цената на билетите"
   ]
  },
  {
   "cell_type": "code",
   "execution_count": 23,
   "metadata": {},
   "outputs": [
    {
     "data": {
      "text/plain": [
       "count    891.000000\n",
       "mean      32.204208\n",
       "std       49.693429\n",
       "min        0.000000\n",
       "25%        7.910400\n",
       "50%       14.454200\n",
       "75%       31.000000\n",
       "max      512.329200\n",
       "Name: Fare, dtype: float64"
      ]
     },
     "execution_count": 23,
     "metadata": {},
     "output_type": "execute_result"
    }
   ],
   "source": [
    "data['Fare'].describe()"
   ]
  },
  {
   "cell_type": "markdown",
   "metadata": {},
   "source": [
    "Имаме пътници, който не за заплатили билет, да видим какви групички можем да намерим "
   ]
  },
  {
   "cell_type": "code",
   "execution_count": 24,
   "metadata": {
    "scrolled": true
   },
   "outputs": [
    {
     "data": {
      "text/html": [
       "<div>\n",
       "<style>\n",
       "    .dataframe thead tr:only-child th {\n",
       "        text-align: right;\n",
       "    }\n",
       "\n",
       "    .dataframe thead th {\n",
       "        text-align: left;\n",
       "    }\n",
       "\n",
       "    .dataframe tbody tr th {\n",
       "        vertical-align: top;\n",
       "    }\n",
       "</style>\n",
       "<table border=\"1\" class=\"dataframe\">\n",
       "  <thead>\n",
       "    <tr style=\"text-align: right;\">\n",
       "      <th></th>\n",
       "      <th>Survived</th>\n",
       "    </tr>\n",
       "    <tr>\n",
       "      <th>Fare_Size</th>\n",
       "      <th></th>\n",
       "    </tr>\n",
       "  </thead>\n",
       "  <tbody>\n",
       "    <tr>\n",
       "      <th>(4.011, 7.896]</th>\n",
       "      <td>0.206731</td>\n",
       "    </tr>\n",
       "    <tr>\n",
       "      <th>(7.896, 11.5]</th>\n",
       "      <td>0.246667</td>\n",
       "    </tr>\n",
       "    <tr>\n",
       "      <th>(11.5, 24.15]</th>\n",
       "      <td>0.429348</td>\n",
       "    </tr>\n",
       "    <tr>\n",
       "      <th>(24.15, 39.688]</th>\n",
       "      <td>0.404624</td>\n",
       "    </tr>\n",
       "    <tr>\n",
       "      <th>(39.688, 512.329]</th>\n",
       "      <td>0.642045</td>\n",
       "    </tr>\n",
       "  </tbody>\n",
       "</table>\n",
       "</div>"
      ],
      "text/plain": [
       "                   Survived\n",
       "Fare_Size                  \n",
       "(4.011, 7.896]     0.206731\n",
       "(7.896, 11.5]      0.246667\n",
       "(11.5, 24.15]      0.429348\n",
       "(24.15, 39.688]    0.404624\n",
       "(39.688, 512.329]  0.642045"
      ]
     },
     "execution_count": 24,
     "metadata": {},
     "output_type": "execute_result"
    }
   ],
   "source": [
    "temp = data.copy()\n",
    "temp.loc[temp.Fare == 0, 'Fare'] = temp['Fare'].mean()\n",
    "temp['Fare_Size']=pd.qcut(temp['Fare'],5)\n",
    "temp.groupby(['Fare_Size'])['Survived'].mean().to_frame()"
   ]
  },
  {
   "cell_type": "code",
   "execution_count": 25,
   "metadata": {},
   "outputs": [],
   "source": [
    "def one_hot_fare(data):\n",
    "    data['Fare1'] = ((data.Fare> 4.011) & (data.Fare <= 11.5)).astype(float)\n",
    "    data['Fare2'] = ((data.Fare > 11.5) & (data.Fare <= 24.15)).astype(float)\n",
    "    data['Fare3'] = ((data.Fare > 24.15) & (data.Fare <= 39.688)).astype(float)\n",
    "    data['Fare4'] = ((data.Fare > 39.688) & (data.Fare <= 512.329)).astype(float)"
   ]
  },
  {
   "cell_type": "code",
   "execution_count": 26,
   "metadata": {},
   "outputs": [],
   "source": [
    "#one_hot_fare(data) с този оne-hot в комбинация  с one_hot_ticket нямаше\n",
    "#някакаква голяма разлика в крайната оценка (локално), но при пускането в kaggle, даде резултат с близо 0.25 по-малко"
   ]
  },
  {
   "cell_type": "markdown",
   "metadata": {},
   "source": [
    "<strong>Да оne-hot-ваме</strong>"
   ]
  },
  {
   "cell_type": "code",
   "execution_count": 27,
   "metadata": {},
   "outputs": [],
   "source": [
    "def one_hot_title(data):\n",
    "    for title in titles:\n",
    "        data['Is' + title] = (data.Title == title).astype(float)"
   ]
  },
  {
   "cell_type": "code",
   "execution_count": 29,
   "metadata": {},
   "outputs": [],
   "source": [
    "def one_hot_age(data): \n",
    "    data['Child'] = (data.Age <= 18).astype(float) \n",
    "    data['Student'] = ((data.Age > 18) & (data.Age <= 22)).astype(float) \n",
    "    data['Adult1'] = ((data.Age > 22) & (data.Age <= 28)).astype(float) \n",
    "    data['Adult2'] = ((data.Age > 28) & (data.Age <= 32.368)).astype(float) \n",
    "    data['Adult3'] = ((data.Age > 32.368) & (data.Age <= 34)).astype(float)\n",
    "    data['Adult4'] = ((data.Age > 34) & (data.Age <= 43)).astype(float)\n",
    "    data['Adult5'] = ((data.Age > 43) & (data.Age <= 80)).astype(float)"
   ]
  },
  {
   "cell_type": "code",
   "execution_count": 30,
   "metadata": {},
   "outputs": [],
   "source": [
    "def one_hot_embarked(data):\n",
    "    for harbour in ['S','C','Q']:\n",
    "         data['Harbour' + harbour] = (data.Embarked == harbour).astype(float)"
   ]
  },
  {
   "cell_type": "code",
   "execution_count": 31,
   "metadata": {},
   "outputs": [],
   "source": [
    "def one_hot_class(data):\n",
    "    for c in [1,2,3]:\n",
    "         data['Class' + str(c)] = (data.Pclass == c).astype(float)"
   ]
  },
  {
   "cell_type": "code",
   "execution_count": 32,
   "metadata": {},
   "outputs": [],
   "source": [
    "def one_hot_family_size(data):\n",
    "    data['Alone'] = (data.FamilySize == 1).astype(float)\n",
    "    data['SmallFamily'] = ((data.FamilySize >= 2) & (data.FamilySize < 5)).astype(float)\n",
    "    data['BigFamily'] = (data.FamilySize >= 5).astype(float)"
   ]
  },
  {
   "cell_type": "code",
   "execution_count": 33,
   "metadata": {},
   "outputs": [],
   "source": [
    "def one_hot_sex(data):\n",
    "    for sex in ['male','female']:\n",
    "        data['Is' + sex.title()] = (data.Sex == sex).astype(float)"
   ]
  },
  {
   "cell_type": "code",
   "execution_count": 34,
   "metadata": {},
   "outputs": [],
   "source": [
    "one_hot_title(data)\n",
    "one_hot_age(data)\n",
    "one_hot_embarked(data)\n",
    "one_hot_class(data)\n",
    "one_hot_family_size(data)\n",
    "one_hot_sex(data)"
   ]
  },
  {
   "cell_type": "markdown",
   "metadata": {},
   "source": [
    "<strong>Махаме ненужните колони и почваме да тренираме модел</strong>"
   ]
  },
  {
   "cell_type": "code",
   "execution_count": 35,
   "metadata": {},
   "outputs": [],
   "source": [
    "data = data.drop(['Pclass', 'Name', 'Sex', 'SibSp', 'Parch', 'Ticket', 'Cabin', 'Embarked', 'Title', 'Age'],1)"
   ]
  },
  {
   "cell_type": "code",
   "execution_count": 36,
   "metadata": {},
   "outputs": [],
   "source": [
    "X = data.drop('Survived', axis=1)\n",
    "y = data['Survived']\n",
    "\n",
    "X_train, X_test, y_train, y_test = train_test_split(X, y, random_state=0, stratify=y)"
   ]
  },
  {
   "cell_type": "markdown",
   "metadata": {},
   "source": [
    "<strong>Логистична регресия</strong>"
   ]
  },
  {
   "cell_type": "code",
   "execution_count": 37,
   "metadata": {},
   "outputs": [
    {
     "name": "stdout",
     "output_type": "stream",
     "text": [
      "train score: 0.836826347305\n",
      "test score:  0.820627802691\n"
     ]
    }
   ],
   "source": [
    "model = LogisticRegression()\n",
    "model.fit(X_train, y_train)\n",
    "\n",
    "print(\"train score:\", model.score(X_train, y_train))\n",
    "print(\"test score: \", model.score(X_test, y_test))"
   ]
  },
  {
   "cell_type": "markdown",
   "metadata": {},
   "source": [
    "<strong>Случайна гора :D</strong>"
   ]
  },
  {
   "cell_type": "code",
   "execution_count": 38,
   "metadata": {},
   "outputs": [
    {
     "name": "stdout",
     "output_type": "stream",
     "text": [
      "train score: 0.953592814371\n",
      "test score:  0.793721973094\n"
     ]
    }
   ],
   "source": [
    "model = RandomForestClassifier(random_state=0).fit(X_train, y_train)\n",
    "print(\"train score:\", model.score(X_train, y_train))\n",
    "print(\"test score: \", model.score(X_test, y_test))"
   ]
  },
  {
   "cell_type": "markdown",
   "metadata": {},
   "source": [
    "Много overfitting"
   ]
  },
  {
   "cell_type": "markdown",
   "metadata": {},
   "source": [
    "<strong>Grid search с различни параметри</strong>"
   ]
  },
  {
   "cell_type": "code",
   "execution_count": 39,
   "metadata": {},
   "outputs": [
    {
     "data": {
      "text/html": [
       "<div>\n",
       "<style>\n",
       "    .dataframe thead tr:only-child th {\n",
       "        text-align: right;\n",
       "    }\n",
       "\n",
       "    .dataframe thead th {\n",
       "        text-align: left;\n",
       "    }\n",
       "\n",
       "    .dataframe tbody tr th {\n",
       "        vertical-align: top;\n",
       "    }\n",
       "</style>\n",
       "<table border=\"1\" class=\"dataframe\">\n",
       "  <thead>\n",
       "    <tr style=\"text-align: right;\">\n",
       "      <th></th>\n",
       "      <th>rank_test_score</th>\n",
       "      <th>mean_test_score</th>\n",
       "      <th>params</th>\n",
       "    </tr>\n",
       "  </thead>\n",
       "  <tbody>\n",
       "    <tr>\n",
       "      <th>9</th>\n",
       "      <td>1</td>\n",
       "      <td>0.832772</td>\n",
       "      <td>{'max_depth': 4, 'n_estimators': 100}</td>\n",
       "    </tr>\n",
       "    <tr>\n",
       "      <th>6</th>\n",
       "      <td>2</td>\n",
       "      <td>0.831650</td>\n",
       "      <td>{'max_depth': 4, 'n_estimators': 10}</td>\n",
       "    </tr>\n",
       "    <tr>\n",
       "      <th>8</th>\n",
       "      <td>3</td>\n",
       "      <td>0.830527</td>\n",
       "      <td>{'max_depth': 4, 'n_estimators': 50}</td>\n",
       "    </tr>\n",
       "    <tr>\n",
       "      <th>5</th>\n",
       "      <td>4</td>\n",
       "      <td>0.829405</td>\n",
       "      <td>{'max_depth': 4, 'n_estimators': 5}</td>\n",
       "    </tr>\n",
       "    <tr>\n",
       "      <th>7</th>\n",
       "      <td>5</td>\n",
       "      <td>0.826038</td>\n",
       "      <td>{'max_depth': 4, 'n_estimators': 20}</td>\n",
       "    </tr>\n",
       "    <tr>\n",
       "      <th>13</th>\n",
       "      <td>6</td>\n",
       "      <td>0.819304</td>\n",
       "      <td>{'max_depth': 6, 'n_estimators': 50}</td>\n",
       "    </tr>\n",
       "    <tr>\n",
       "      <th>17</th>\n",
       "      <td>7</td>\n",
       "      <td>0.814815</td>\n",
       "      <td>{'max_depth': 8, 'n_estimators': 20}</td>\n",
       "    </tr>\n",
       "    <tr>\n",
       "      <th>14</th>\n",
       "      <td>7</td>\n",
       "      <td>0.814815</td>\n",
       "      <td>{'max_depth': 6, 'n_estimators': 100}</td>\n",
       "    </tr>\n",
       "    <tr>\n",
       "      <th>12</th>\n",
       "      <td>9</td>\n",
       "      <td>0.813692</td>\n",
       "      <td>{'max_depth': 6, 'n_estimators': 20}</td>\n",
       "    </tr>\n",
       "    <tr>\n",
       "      <th>11</th>\n",
       "      <td>9</td>\n",
       "      <td>0.813692</td>\n",
       "      <td>{'max_depth': 6, 'n_estimators': 10}</td>\n",
       "    </tr>\n",
       "  </tbody>\n",
       "</table>\n",
       "</div>"
      ],
      "text/plain": [
       "    rank_test_score  mean_test_score                                 params\n",
       "9                 1         0.832772  {'max_depth': 4, 'n_estimators': 100}\n",
       "6                 2         0.831650   {'max_depth': 4, 'n_estimators': 10}\n",
       "8                 3         0.830527   {'max_depth': 4, 'n_estimators': 50}\n",
       "5                 4         0.829405    {'max_depth': 4, 'n_estimators': 5}\n",
       "7                 5         0.826038   {'max_depth': 4, 'n_estimators': 20}\n",
       "13                6         0.819304   {'max_depth': 6, 'n_estimators': 50}\n",
       "17                7         0.814815   {'max_depth': 8, 'n_estimators': 20}\n",
       "14                7         0.814815  {'max_depth': 6, 'n_estimators': 100}\n",
       "12                9         0.813692   {'max_depth': 6, 'n_estimators': 20}\n",
       "11                9         0.813692   {'max_depth': 6, 'n_estimators': 10}"
      ]
     },
     "execution_count": 39,
     "metadata": {},
     "output_type": "execute_result"
    }
   ],
   "source": [
    "search = GridSearchCV(model, {'n_estimators': [5, 10, 20, 50, 100],\n",
    "                              'max_depth': [2, 4, 6, 8, 10, 12, 15]})\n",
    "search.fit(X, y)\n",
    "\n",
    "pd.DataFrame(search.cv_results_)[['rank_test_score', 'mean_test_score', 'params']].sort_values(by='rank_test_score').head(10)"
   ]
  },
  {
   "cell_type": "markdown",
   "metadata": {},
   "source": [
    "Пробваме с max_depth=4 и n_estimators=100"
   ]
  },
  {
   "cell_type": "code",
   "execution_count": 40,
   "metadata": {},
   "outputs": [
    {
     "name": "stdout",
     "output_type": "stream",
     "text": [
      "train score: 0.839820359281\n",
      "test score:  0.820627802691\n"
     ]
    }
   ],
   "source": [
    "model = RandomForestClassifier(max_depth=4, n_estimators=100, random_state=0).fit(X_train, y_train)\n",
    "print(\"train score:\", model.score(X_train, y_train))\n",
    "print(\"test score: \", model.score(X_test, y_test))"
   ]
  },
  {
   "cell_type": "code",
   "execution_count": 41,
   "metadata": {},
   "outputs": [],
   "source": [
    "def random_forest_features(model, X):\n",
    "    importances = model.feature_importances_\n",
    "    std = np.std([model.feature_importances_ for tree in model.estimators_],\n",
    "                 axis=0)\n",
    "    indices = np.argsort(importances)[::-1]\n",
    "\n",
    "    plt.figure(figsize=(10, 10))\n",
    "    plt.title(\"Feature importances\")\n",
    "    plt.bar(range(X.shape[1]), importances[indices], color=\"r\", yerr=std[indices], align=\"center\")\n",
    "    plt.xticks(range(X.shape[1]), X.columns, rotation='vertical')\n",
    "    plt.xlim([-1, X.shape[1]])\n",
    "    plt.show()"
   ]
  },
  {
   "cell_type": "code",
   "execution_count": 42,
   "metadata": {},
   "outputs": [
    {
     "data": {
      "image/png": "[encoded data removed]",
      "text/plain": [
       "<matplotlib.figure.Figure at 0x1c11b278>"
      ]
     },
     "metadata": {},
     "output_type": "display_data"
    }
   ],
   "source": [
    "random_forest_features(model, X)\n"
   ]
  },
  {
   "cell_type": "markdown",
   "metadata": {},
   "source": [
    "<strong>Fare, има голямо значение, но явно има друг подход към този feature(закоментираният one-hot, не даде исканите резултати)</strong>"
   ]
  },
  {
   "cell_type": "code",
   "execution_count": 43,
   "metadata": {},
   "outputs": [
    {
     "data": {
      "text/html": [
       "<div>\n",
       "<style>\n",
       "    .dataframe thead tr:only-child th {\n",
       "        text-align: right;\n",
       "    }\n",
       "\n",
       "    .dataframe thead th {\n",
       "        text-align: left;\n",
       "    }\n",
       "\n",
       "    .dataframe tbody tr th {\n",
       "        vertical-align: top;\n",
       "    }\n",
       "</style>\n",
       "<table border=\"1\" class=\"dataframe\">\n",
       "  <thead>\n",
       "    <tr style=\"text-align: right;\">\n",
       "      <th></th>\n",
       "      <th>Survived</th>\n",
       "    </tr>\n",
       "    <tr>\n",
       "      <th>PassengerId</th>\n",
       "      <th></th>\n",
       "    </tr>\n",
       "  </thead>\n",
       "  <tbody>\n",
       "    <tr>\n",
       "      <th>892</th>\n",
       "      <td>0</td>\n",
       "    </tr>\n",
       "    <tr>\n",
       "      <th>893</th>\n",
       "      <td>1</td>\n",
       "    </tr>\n",
       "    <tr>\n",
       "      <th>894</th>\n",
       "      <td>0</td>\n",
       "    </tr>\n",
       "    <tr>\n",
       "      <th>895</th>\n",
       "      <td>0</td>\n",
       "    </tr>\n",
       "    <tr>\n",
       "      <th>896</th>\n",
       "      <td>1</td>\n",
       "    </tr>\n",
       "  </tbody>\n",
       "</table>\n",
       "</div>"
      ],
      "text/plain": [
       "             Survived\n",
       "PassengerId          \n",
       "892                 0\n",
       "893                 1\n",
       "894                 0\n",
       "895                 0\n",
       "896                 1"
      ]
     },
     "execution_count": 43,
     "metadata": {},
     "output_type": "execute_result"
    }
   ],
   "source": [
    "test = pd.read_csv('data/titanic/test.csv', index_col=['PassengerId'])\n",
    "create_title(test)\n",
    "fix_names(test)\n",
    "add_avg_age(test)\n",
    "test['FamilySize'] = test['SibSp'] + test['Parch'] + 1\n",
    "#one_hot_ticket(test)\n",
    "one_hot_age(test)\n",
    "one_hot_title(test)\n",
    "one_hot_embarked(test)\n",
    "one_hot_class(test)\n",
    "one_hot_family_size(test)\n",
    "one_hot_sex(test)\n",
    "test.loc[test.Fare.isnull(), 'Fare'] = 0\n",
    "test.loc[test.Fare == 0, 'Fare'] = test['Fare'].mean()\n",
    "#one_hot_fare(test)\n",
    "test = test.drop(['Pclass', 'Name', 'Sex', 'SibSp', 'Parch', 'Ticket', 'Cabin', 'Embarked', 'Title', 'Age'],1)\n",
    "test.isnull().sum().sort_values()\n",
    "predictions = model.predict(test)\n",
    "frame = pd.DataFrame({\n",
    "    'PassengerId': pd.read_csv('data/titanic/test.csv').PassengerId,\n",
    "    'Survived': predictions\n",
    "})\n",
    "frame = frame.set_index('PassengerId')\n",
    "frame.to_csv('~/Desktop/predictions.csv')\n",
    "frame.head()"
   ]
  },
  {
   "attachments": {
    "kaggle_result.png": {
     "image/png": "[encoded data removed]"
    }
   },
   "cell_type": "markdown",
   "metadata": {},
   "source": [
    "![LeadingBoard](attachment:img/kaggle_result.png)"
   ]
  }
 ],
 "metadata": {
  "kernelspec": {
   "display_name": "Python 3",
   "language": "python",
   "name": "python3"
  },
  "language_info": {
   "codemirror_mode": {
    "name": "ipython",
    "version": 3
   },
   "file_extension": ".py",
   "mimetype": "text/x-python",
   "name": "python",
   "nbconvert_exporter": "python",
   "pygments_lexer": "ipython3",
   "version": "3.6.3"
  }
 },
 "nbformat": 4,
 "nbformat_minor": 2
}
